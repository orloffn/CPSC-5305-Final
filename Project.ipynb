{
 "cells": [
  {
   "cell_type": "markdown",
   "metadata": {},
   "source": [
    "### Imports"
   ]
  },
  {
   "cell_type": "code",
   "execution_count": 43,
   "metadata": {},
   "outputs": [
    {
     "name": "stderr",
     "output_type": "stream",
     "text": [
      "[nltk_data] Downloading package punkt to /home/eksdee/nltk_data...\n",
      "[nltk_data]   Package punkt is already up-to-date!\n",
      "[nltk_data] Downloading package stopwords to /home/eksdee/nltk_data...\n",
      "[nltk_data]   Package stopwords is already up-to-date!\n",
      "[nltk_data] Downloading package averaged_perceptron_tagger to\n",
      "[nltk_data]     /home/eksdee/nltk_data...\n",
      "[nltk_data]   Package averaged_perceptron_tagger is already up-to-\n",
      "[nltk_data]       date!\n"
     ]
    },
    {
     "data": {
      "text/plain": [
       "True"
      ]
     },
     "execution_count": 43,
     "metadata": {},
     "output_type": "execute_result"
    }
   ],
   "source": [
    "import pandas as pd\n",
    "import matplotlib\n",
    "import nltk\n",
    "from nltk.tokenize import word_tokenize\n",
    "from sklearn.feature_extraction.text import TfidfVectorizer, CountVectorizer\n",
    "from sklearn.neighbors import KNeighborsRegressor\n",
    "from sklearn.linear_model import LinearRegression\n",
    "from nltk.stem.porter import PorterStemmer\n",
    "from sklearn.svm import SVC\n",
    "from sklearn.model_selection import train_test_split\n",
    "from sklearn.metrics import classification_report, confusion_matrix, accuracy_score\n",
    "from sklearn.model_selection import cross_val_score\n",
    "\n",
    "import requests\n",
    "import json\n",
    "import time\n",
    "import numpy as np\n",
    "import string\n",
    "from collections import Counter\n",
    "\n",
    "from bs4 import BeautifulSoup\n",
    "\n",
    "import seaborn as sns\n",
    "from nltk.corpus import stopwords\n",
    "from wordcloud import WordCloud\n",
    "import matplotlib.pyplot as plt\n",
    "\n",
    "import gensim\n",
    "import gensim.corpora as corpora\n",
    "from gensim.utils import simple_preprocess\n",
    "from gensim.models import CoherenceModel\n",
    "\n",
    "#import pyLDAvis\n",
    "import pyLDAvis.gensim\n",
    "\n",
    "%matplotlib inline\n",
    "nltk.download('punkt')\n",
    "nltk.download('stopwords')\n",
    "nltk.download('averaged_perceptron_tagger')"
   ]
  },
  {
   "cell_type": "markdown",
   "metadata": {},
   "source": [
    "### Read business data"
   ]
  },
  {
   "cell_type": "code",
   "execution_count": 6,
   "metadata": {},
   "outputs": [],
   "source": [
    "business = pd.read_json('business.json', lines=True)"
   ]
  },
  {
   "cell_type": "code",
   "execution_count": 7,
   "metadata": {},
   "outputs": [
    {
     "data": {
      "text/plain": [
       "<matplotlib.axes._subplots.AxesSubplot at 0x7f18e4b14518>"
      ]
     },
     "execution_count": 7,
     "metadata": {},
     "output_type": "execute_result"
    },
    {
     "data": {
      "image/png": "[encoded data removed]",
      "text/plain": [
       "<Figure size 432x288 with 1 Axes>"
      ]
     },
     "metadata": {
      "needs_background": "light"
     },
     "output_type": "display_data"
    }
   ],
   "source": [
    "business.state.value_counts()[0:10].plot(kind='bar')"
   ]
  },
  {
   "cell_type": "code",
   "execution_count": 8,
   "metadata": {},
   "outputs": [],
   "source": [
    "state_business = business[business.state == 'OH']"
   ]
  },
  {
   "cell_type": "code",
   "execution_count": 9,
   "metadata": {
    "scrolled": true
   },
   "outputs": [],
   "source": [
    "# Keep only business that are still open\n",
    "# 1 = open, 0 = closed\n",
    "# Drop columns that may not be relavent\n",
    "state_business = state_business[state_business['is_open']==1].drop(['hours','is_open','review_count','latitude','longitude','attributes'], axis=1)"
   ]
  },
  {
   "cell_type": "code",
   "execution_count": 10,
   "metadata": {},
   "outputs": [],
   "source": [
    "# Keep only business with categories that are food related\n",
    "business_res = state_business[state_business['categories'].str.contains(\n",
    "              'Restaurants',\n",
    "              case=False, na=False)]"
   ]
  },
  {
   "cell_type": "code",
   "execution_count": 11,
   "metadata": {},
   "outputs": [],
   "source": [
    "business_res_ids = pd.DataFrame(business_res.business_id)"
   ]
  },
  {
   "cell_type": "code",
   "execution_count": 12,
   "metadata": {},
   "outputs": [
    {
     "data": {
      "text/html": [
       "<div>\n",
       "<style scoped>\n",
       "    .dataframe tbody tr th:only-of-type {\n",
       "        vertical-align: middle;\n",
       "    }\n",
       "\n",
       "    .dataframe tbody tr th {\n",
       "        vertical-align: top;\n",
       "    }\n",
       "\n",
       "    .dataframe thead th {\n",
       "        text-align: right;\n",
       "    }\n",
       "</style>\n",
       "<table border=\"1\" class=\"dataframe\">\n",
       "  <thead>\n",
       "    <tr style=\"text-align: right;\">\n",
       "      <th></th>\n",
       "      <th>business_id</th>\n",
       "      <th>name</th>\n",
       "      <th>address</th>\n",
       "      <th>city</th>\n",
       "      <th>state</th>\n",
       "      <th>postal_code</th>\n",
       "      <th>stars</th>\n",
       "      <th>categories</th>\n",
       "    </tr>\n",
       "  </thead>\n",
       "  <tbody>\n",
       "    <tr>\n",
       "      <td>13</td>\n",
       "      <td>fweCYi8FmbJXHCqLnwuk8w</td>\n",
       "      <td>Marco's Pizza</td>\n",
       "      <td>5981 Andrews Rd</td>\n",
       "      <td>Mentor-on-the-Lake</td>\n",
       "      <td>OH</td>\n",
       "      <td>44060</td>\n",
       "      <td>4.0</td>\n",
       "      <td>Italian, Restaurants, Pizza, Chicken Wings</td>\n",
       "    </tr>\n",
       "    <tr>\n",
       "      <td>113</td>\n",
       "      <td>7aLkFEBnL1LJmQdcuaovuQ</td>\n",
       "      <td>Ohio Beer Garden</td>\n",
       "      <td>402 Great Northern Blvd</td>\n",
       "      <td>North Olmsted</td>\n",
       "      <td>OH</td>\n",
       "      <td>44070</td>\n",
       "      <td>4.0</td>\n",
       "      <td>Restaurants, Pubs, Bars, Nightlife, American (...</td>\n",
       "    </tr>\n",
       "    <tr>\n",
       "      <td>120</td>\n",
       "      <td>0lFAD4CuWcQVl9u3-lRaCQ</td>\n",
       "      <td>Cruisers Bar and Grill</td>\n",
       "      <td>6625 Dean Memorial Pkwy</td>\n",
       "      <td>Hudson</td>\n",
       "      <td>OH</td>\n",
       "      <td>44236</td>\n",
       "      <td>3.5</td>\n",
       "      <td>Pubs, Restaurants, Bars, Event Planning &amp; Serv...</td>\n",
       "    </tr>\n",
       "    <tr>\n",
       "      <td>226</td>\n",
       "      <td>OwXMxqxIy4YoprAjnoUoiA</td>\n",
       "      <td>B &amp; M Bar-B-Que Shaw</td>\n",
       "      <td>12700 Shaw Ave</td>\n",
       "      <td>Cleveland</td>\n",
       "      <td>OH</td>\n",
       "      <td>44108</td>\n",
       "      <td>3.5</td>\n",
       "      <td>Barbeque, Restaurants</td>\n",
       "    </tr>\n",
       "    <tr>\n",
       "      <td>243</td>\n",
       "      <td>U3-kxz7NWq4ix4bPmKKQ0w</td>\n",
       "      <td>Aladdin's Eatery</td>\n",
       "      <td>8870 Mentor Ave</td>\n",
       "      <td>Mentor</td>\n",
       "      <td>OH</td>\n",
       "      <td>44060</td>\n",
       "      <td>4.5</td>\n",
       "      <td>Ethnic Food, Specialty Food, Food, Restaurants...</td>\n",
       "    </tr>\n",
       "    <tr>\n",
       "      <td>...</td>\n",
       "      <td>...</td>\n",
       "      <td>...</td>\n",
       "      <td>...</td>\n",
       "      <td>...</td>\n",
       "      <td>...</td>\n",
       "      <td>...</td>\n",
       "      <td>...</td>\n",
       "      <td>...</td>\n",
       "    </tr>\n",
       "    <tr>\n",
       "      <td>192407</td>\n",
       "      <td>soQEl35sQuARBOlH1Y6MaQ</td>\n",
       "      <td>Teresa's Pizza</td>\n",
       "      <td>6010 Mayfield Rd</td>\n",
       "      <td>Cleveland</td>\n",
       "      <td>OH</td>\n",
       "      <td>44124</td>\n",
       "      <td>3.5</td>\n",
       "      <td>Restaurants, Pizza</td>\n",
       "    </tr>\n",
       "    <tr>\n",
       "      <td>192439</td>\n",
       "      <td>Ylm9cM4xIFgg6LLBr8Euow</td>\n",
       "      <td>Cuisine Express At Valero</td>\n",
       "      <td>6177 Pearl Rd</td>\n",
       "      <td>Cleveland</td>\n",
       "      <td>OH</td>\n",
       "      <td>44130</td>\n",
       "      <td>3.5</td>\n",
       "      <td>Sandwiches, Restaurants</td>\n",
       "    </tr>\n",
       "    <tr>\n",
       "      <td>192477</td>\n",
       "      <td>2JsLzYF8rUalwpm5LDEcog</td>\n",
       "      <td>Chowder House Cafe</td>\n",
       "      <td>2028 Chestnut Blvd</td>\n",
       "      <td>Cuyahoga Falls</td>\n",
       "      <td>OH</td>\n",
       "      <td>44223</td>\n",
       "      <td>3.5</td>\n",
       "      <td>Seafood, Soup, Restaurants</td>\n",
       "    </tr>\n",
       "    <tr>\n",
       "      <td>192589</td>\n",
       "      <td>ghovD5ZTGDQ5Q2U4ERddWw</td>\n",
       "      <td>Five Guys</td>\n",
       "      <td>3863 Medina Rd</td>\n",
       "      <td>Fairlawn</td>\n",
       "      <td>OH</td>\n",
       "      <td>44333</td>\n",
       "      <td>4.0</td>\n",
       "      <td>Burgers, Restaurants, Fast Food, American (New)</td>\n",
       "    </tr>\n",
       "    <tr>\n",
       "      <td>192603</td>\n",
       "      <td>p1eUTUB_5hf1enoKYBV3DA</td>\n",
       "      <td>Ken Stewart's Tre Belle</td>\n",
       "      <td>1911 N Cleveland-Massillon Rd</td>\n",
       "      <td>Bath</td>\n",
       "      <td>OH</td>\n",
       "      <td>44210</td>\n",
       "      <td>3.5</td>\n",
       "      <td>Restaurants, Italian</td>\n",
       "    </tr>\n",
       "  </tbody>\n",
       "</table>\n",
       "<p>4209 rows × 8 columns</p>\n",
       "</div>"
      ],
      "text/plain": [
       "                   business_id                       name  \\\n",
       "13      fweCYi8FmbJXHCqLnwuk8w              Marco's Pizza   \n",
       "113     7aLkFEBnL1LJmQdcuaovuQ           Ohio Beer Garden   \n",
       "120     0lFAD4CuWcQVl9u3-lRaCQ     Cruisers Bar and Grill   \n",
       "226     OwXMxqxIy4YoprAjnoUoiA       B & M Bar-B-Que Shaw   \n",
       "243     U3-kxz7NWq4ix4bPmKKQ0w           Aladdin's Eatery   \n",
       "...                        ...                        ...   \n",
       "192407  soQEl35sQuARBOlH1Y6MaQ             Teresa's Pizza   \n",
       "192439  Ylm9cM4xIFgg6LLBr8Euow  Cuisine Express At Valero   \n",
       "192477  2JsLzYF8rUalwpm5LDEcog         Chowder House Cafe   \n",
       "192589  ghovD5ZTGDQ5Q2U4ERddWw                  Five Guys   \n",
       "192603  p1eUTUB_5hf1enoKYBV3DA    Ken Stewart's Tre Belle   \n",
       "\n",
       "                              address                city state postal_code  \\\n",
       "13                    5981 Andrews Rd  Mentor-on-the-Lake    OH       44060   \n",
       "113           402 Great Northern Blvd       North Olmsted    OH       44070   \n",
       "120           6625 Dean Memorial Pkwy              Hudson    OH       44236   \n",
       "226                    12700 Shaw Ave           Cleveland    OH       44108   \n",
       "243                   8870 Mentor Ave              Mentor    OH       44060   \n",
       "...                               ...                 ...   ...         ...   \n",
       "192407               6010 Mayfield Rd           Cleveland    OH       44124   \n",
       "192439                  6177 Pearl Rd           Cleveland    OH       44130   \n",
       "192477             2028 Chestnut Blvd      Cuyahoga Falls    OH       44223   \n",
       "192589                 3863 Medina Rd            Fairlawn    OH       44333   \n",
       "192603  1911 N Cleveland-Massillon Rd                Bath    OH       44210   \n",
       "\n",
       "        stars                                         categories  \n",
       "13        4.0         Italian, Restaurants, Pizza, Chicken Wings  \n",
       "113       4.0  Restaurants, Pubs, Bars, Nightlife, American (...  \n",
       "120       3.5  Pubs, Restaurants, Bars, Event Planning & Serv...  \n",
       "226       3.5                              Barbeque, Restaurants  \n",
       "243       4.5  Ethnic Food, Specialty Food, Food, Restaurants...  \n",
       "...       ...                                                ...  \n",
       "192407    3.5                                 Restaurants, Pizza  \n",
       "192439    3.5                            Sandwiches, Restaurants  \n",
       "192477    3.5                         Seafood, Soup, Restaurants  \n",
       "192589    4.0    Burgers, Restaurants, Fast Food, American (New)  \n",
       "192603    3.5                               Restaurants, Italian  \n",
       "\n",
       "[4209 rows x 8 columns]"
      ]
     },
     "execution_count": 12,
     "metadata": {},
     "output_type": "execute_result"
    }
   ],
   "source": [
    "business_res"
   ]
  },
  {
   "cell_type": "markdown",
   "metadata": {},
   "source": [
    "### Read Review data"
   ]
  },
  {
   "cell_type": "code",
   "execution_count": 13,
   "metadata": {},
   "outputs": [],
   "source": [
    "review = pd.read_json('review.json', lines=True,\n",
    "                      dtype={'review_id':str,'user_id':str,\n",
    "                             'business_id':str,'stars':float,\n",
    "                             'date':str,'text':str,'useful':int,\n",
    "                             'funny':int,'cool':int},\n",
    "                      chunksize=100000)"
   ]
  },
  {
   "cell_type": "markdown",
   "metadata": {},
   "source": [
    "### Merge Data"
   ]
  },
  {
   "cell_type": "code",
   "execution_count": 14,
   "metadata": {},
   "outputs": [],
   "source": [
    "temp = []\n",
    "for i in review:\n",
    "    # Renaming column name to avoid conflict with business overall star rating\n",
    "    i = i.rename(columns={'stars': 'review_stars'})\n",
    "    temp.append(business_res_ids.merge(i, on='business_id', how='left'))\n",
    "merged = pd.concat(temp)"
   ]
  },
  {
   "cell_type": "code",
   "execution_count": 15,
   "metadata": {},
   "outputs": [
    {
     "data": {
      "text/html": [
       "<div>\n",
       "<style scoped>\n",
       "    .dataframe tbody tr th:only-of-type {\n",
       "        vertical-align: middle;\n",
       "    }\n",
       "\n",
       "    .dataframe tbody tr th {\n",
       "        vertical-align: top;\n",
       "    }\n",
       "\n",
       "    .dataframe thead th {\n",
       "        text-align: right;\n",
       "    }\n",
       "</style>\n",
       "<table border=\"1\" class=\"dataframe\">\n",
       "  <thead>\n",
       "    <tr style=\"text-align: right;\">\n",
       "      <th></th>\n",
       "      <th>business_id</th>\n",
       "      <th>name</th>\n",
       "      <th>address</th>\n",
       "      <th>city</th>\n",
       "      <th>state</th>\n",
       "      <th>postal_code</th>\n",
       "      <th>stars</th>\n",
       "      <th>categories</th>\n",
       "    </tr>\n",
       "  </thead>\n",
       "  <tbody>\n",
       "    <tr>\n",
       "      <td>9</td>\n",
       "      <td>4GBVPIYRvzGh4K4TkRQ_rw</td>\n",
       "      <td>Options Salon &amp; Spa</td>\n",
       "      <td>21689 Lorain Rd</td>\n",
       "      <td>Fairview Park</td>\n",
       "      <td>OH</td>\n",
       "      <td>44126</td>\n",
       "      <td>4.5</td>\n",
       "      <td>Beauty &amp; Spas, Nail Salons, Day Spas, Massage</td>\n",
       "    </tr>\n",
       "    <tr>\n",
       "      <td>13</td>\n",
       "      <td>fweCYi8FmbJXHCqLnwuk8w</td>\n",
       "      <td>Marco's Pizza</td>\n",
       "      <td>5981 Andrews Rd</td>\n",
       "      <td>Mentor-on-the-Lake</td>\n",
       "      <td>OH</td>\n",
       "      <td>44060</td>\n",
       "      <td>4.0</td>\n",
       "      <td>Italian, Restaurants, Pizza, Chicken Wings</td>\n",
       "    </tr>\n",
       "    <tr>\n",
       "      <td>14</td>\n",
       "      <td>-K4gAv8_vjx8-2BxkVeRkA</td>\n",
       "      <td>Baby Cakes</td>\n",
       "      <td>4145 Erie St</td>\n",
       "      <td>Willoughby</td>\n",
       "      <td>OH</td>\n",
       "      <td>44094</td>\n",
       "      <td>3.0</td>\n",
       "      <td>Bakeries, Food</td>\n",
       "    </tr>\n",
       "    <tr>\n",
       "      <td>40</td>\n",
       "      <td>-MsRvdPnuw6QuLn5Vxjruw</td>\n",
       "      <td>Brian's Furniture</td>\n",
       "      <td>30808 Center Ridge Rd</td>\n",
       "      <td>Westlake</td>\n",
       "      <td>OH</td>\n",
       "      <td>44145</td>\n",
       "      <td>5.0</td>\n",
       "      <td>Shopping, Home Services, Interior Design, Rugs...</td>\n",
       "    </tr>\n",
       "    <tr>\n",
       "      <td>56</td>\n",
       "      <td>YNvZdMLXa4q8e9tiE4ge4A</td>\n",
       "      <td>Louis Stokes Cleveland VA Medical Center</td>\n",
       "      <td>10701 E Blvd</td>\n",
       "      <td>Cleveland</td>\n",
       "      <td>OH</td>\n",
       "      <td>44106</td>\n",
       "      <td>3.5</td>\n",
       "      <td>Health &amp; Medical, Medical Centers</td>\n",
       "    </tr>\n",
       "    <tr>\n",
       "      <td>...</td>\n",
       "      <td>...</td>\n",
       "      <td>...</td>\n",
       "      <td>...</td>\n",
       "      <td>...</td>\n",
       "      <td>...</td>\n",
       "      <td>...</td>\n",
       "      <td>...</td>\n",
       "      <td>...</td>\n",
       "    </tr>\n",
       "    <tr>\n",
       "      <td>192528</td>\n",
       "      <td>XMRultPt5xHJJXQzgceZzg</td>\n",
       "      <td>Tuesday Morning</td>\n",
       "      <td>6845 Pearl Rd</td>\n",
       "      <td>Middleburg Heights</td>\n",
       "      <td>OH</td>\n",
       "      <td>44130</td>\n",
       "      <td>3.5</td>\n",
       "      <td>Outlet Stores, Discount Store, Shopping</td>\n",
       "    </tr>\n",
       "    <tr>\n",
       "      <td>192555</td>\n",
       "      <td>gyGu3JEcWXvyiOAHmTHwbA</td>\n",
       "      <td>Tattoo Faction</td>\n",
       "      <td>30584 Lorain Rd</td>\n",
       "      <td>North Olmsted</td>\n",
       "      <td>OH</td>\n",
       "      <td>44070</td>\n",
       "      <td>4.5</td>\n",
       "      <td>Tattoo, Beauty &amp; Spas</td>\n",
       "    </tr>\n",
       "    <tr>\n",
       "      <td>192589</td>\n",
       "      <td>ghovD5ZTGDQ5Q2U4ERddWw</td>\n",
       "      <td>Five Guys</td>\n",
       "      <td>3863 Medina Rd</td>\n",
       "      <td>Fairlawn</td>\n",
       "      <td>OH</td>\n",
       "      <td>44333</td>\n",
       "      <td>4.0</td>\n",
       "      <td>Burgers, Restaurants, Fast Food, American (New)</td>\n",
       "    </tr>\n",
       "    <tr>\n",
       "      <td>192594</td>\n",
       "      <td>NVSmNWDNYYZ82sdYID_9Tw</td>\n",
       "      <td>Verizon</td>\n",
       "      <td>4186 Kent Rd</td>\n",
       "      <td>Stow</td>\n",
       "      <td>OH</td>\n",
       "      <td>44224</td>\n",
       "      <td>1.0</td>\n",
       "      <td>Electronics, Home Services, Professional Servi...</td>\n",
       "    </tr>\n",
       "    <tr>\n",
       "      <td>192603</td>\n",
       "      <td>p1eUTUB_5hf1enoKYBV3DA</td>\n",
       "      <td>Ken Stewart's Tre Belle</td>\n",
       "      <td>1911 N Cleveland-Massillon Rd</td>\n",
       "      <td>Bath</td>\n",
       "      <td>OH</td>\n",
       "      <td>44210</td>\n",
       "      <td>3.5</td>\n",
       "      <td>Restaurants, Italian</td>\n",
       "    </tr>\n",
       "  </tbody>\n",
       "</table>\n",
       "<p>12546 rows × 8 columns</p>\n",
       "</div>"
      ],
      "text/plain": [
       "                   business_id                                      name  \\\n",
       "9       4GBVPIYRvzGh4K4TkRQ_rw                       Options Salon & Spa   \n",
       "13      fweCYi8FmbJXHCqLnwuk8w                             Marco's Pizza   \n",
       "14      -K4gAv8_vjx8-2BxkVeRkA                                Baby Cakes   \n",
       "40      -MsRvdPnuw6QuLn5Vxjruw                         Brian's Furniture   \n",
       "56      YNvZdMLXa4q8e9tiE4ge4A  Louis Stokes Cleveland VA Medical Center   \n",
       "...                        ...                                       ...   \n",
       "192528  XMRultPt5xHJJXQzgceZzg                           Tuesday Morning   \n",
       "192555  gyGu3JEcWXvyiOAHmTHwbA                            Tattoo Faction   \n",
       "192589  ghovD5ZTGDQ5Q2U4ERddWw                                 Five Guys   \n",
       "192594  NVSmNWDNYYZ82sdYID_9Tw                                   Verizon   \n",
       "192603  p1eUTUB_5hf1enoKYBV3DA                   Ken Stewart's Tre Belle   \n",
       "\n",
       "                              address                city state postal_code  \\\n",
       "9                     21689 Lorain Rd       Fairview Park    OH       44126   \n",
       "13                    5981 Andrews Rd  Mentor-on-the-Lake    OH       44060   \n",
       "14                       4145 Erie St          Willoughby    OH       44094   \n",
       "40              30808 Center Ridge Rd            Westlake    OH       44145   \n",
       "56                       10701 E Blvd           Cleveland    OH       44106   \n",
       "...                               ...                 ...   ...         ...   \n",
       "192528                  6845 Pearl Rd  Middleburg Heights    OH       44130   \n",
       "192555                30584 Lorain Rd       North Olmsted    OH       44070   \n",
       "192589                 3863 Medina Rd            Fairlawn    OH       44333   \n",
       "192594                   4186 Kent Rd                Stow    OH       44224   \n",
       "192603  1911 N Cleveland-Massillon Rd                Bath    OH       44210   \n",
       "\n",
       "        stars                                         categories  \n",
       "9         4.5      Beauty & Spas, Nail Salons, Day Spas, Massage  \n",
       "13        4.0         Italian, Restaurants, Pizza, Chicken Wings  \n",
       "14        3.0                                     Bakeries, Food  \n",
       "40        5.0  Shopping, Home Services, Interior Design, Rugs...  \n",
       "56        3.5                  Health & Medical, Medical Centers  \n",
       "...       ...                                                ...  \n",
       "192528    3.5            Outlet Stores, Discount Store, Shopping  \n",
       "192555    4.5                              Tattoo, Beauty & Spas  \n",
       "192589    4.0    Burgers, Restaurants, Fast Food, American (New)  \n",
       "192594    1.0  Electronics, Home Services, Professional Servi...  \n",
       "192603    3.5                               Restaurants, Italian  \n",
       "\n",
       "[12546 rows x 8 columns]"
      ]
     },
     "execution_count": 15,
     "metadata": {},
     "output_type": "execute_result"
    }
   ],
   "source": [
    "state_business"
   ]
  },
  {
   "cell_type": "code",
   "execution_count": 16,
   "metadata": {
    "scrolled": true
   },
   "outputs": [
    {
     "data": {
      "text/plain": [
       "LNsZJP6jZ11e0tDljOLPiQ    1206\n",
       "GIfZNMP0oIJCje_Xp0Bgrw    1110\n",
       "J1RDyyPxhioqm8c_fi4P4Q    1083\n",
       "JFaTPxWQC14VmFnXLv7W1g     965\n",
       "meXjqyhTNLFmknY39y2sMg     953\n",
       "                          ... \n",
       "sfWFdhpwsThk4w9nDg1tTA      67\n",
       "gcr5J-7Ql2IzbK7JSYfUZw      67\n",
       "oLz3JuHkQqwFcmOlwq__8A      67\n",
       "PcpfOJhUC_dFFVG1o7waDw      67\n",
       "SIGb2Q6PuoixOR4VtwgpgA      67\n",
       "Name: business_id, Length: 4209, dtype: int64"
      ]
     },
     "execution_count": 16,
     "metadata": {},
     "output_type": "execute_result"
    }
   ],
   "source": [
    "merged.business_id.value_counts()"
   ]
  },
  {
   "cell_type": "code",
   "execution_count": 17,
   "metadata": {},
   "outputs": [
    {
     "data": {
      "text/html": [
       "<div>\n",
       "<style scoped>\n",
       "    .dataframe tbody tr th:only-of-type {\n",
       "        vertical-align: middle;\n",
       "    }\n",
       "\n",
       "    .dataframe tbody tr th {\n",
       "        vertical-align: top;\n",
       "    }\n",
       "\n",
       "    .dataframe thead th {\n",
       "        text-align: right;\n",
       "    }\n",
       "</style>\n",
       "<table border=\"1\" class=\"dataframe\">\n",
       "  <thead>\n",
       "    <tr style=\"text-align: right;\">\n",
       "      <th></th>\n",
       "      <th>business_id</th>\n",
       "      <th>review_id</th>\n",
       "      <th>user_id</th>\n",
       "      <th>review_stars</th>\n",
       "      <th>useful</th>\n",
       "      <th>funny</th>\n",
       "      <th>cool</th>\n",
       "      <th>text</th>\n",
       "      <th>date</th>\n",
       "    </tr>\n",
       "  </thead>\n",
       "  <tbody>\n",
       "    <tr>\n",
       "      <td>0</td>\n",
       "      <td>fweCYi8FmbJXHCqLnwuk8w</td>\n",
       "      <td>PnKm8y0thZ5ZdWhuOk7Opg</td>\n",
       "      <td>VJvQiGrmtFXAmswRRIWYYw</td>\n",
       "      <td>5.0</td>\n",
       "      <td>0.0</td>\n",
       "      <td>0.0</td>\n",
       "      <td>0.0</td>\n",
       "      <td>Hands down, this is the best pizza place in Me...</td>\n",
       "      <td>2017-06-27 23:35:47</td>\n",
       "    </tr>\n",
       "    <tr>\n",
       "      <td>1</td>\n",
       "      <td>fweCYi8FmbJXHCqLnwuk8w</td>\n",
       "      <td>UkLxSPjJr1jpIjCtcKx7GA</td>\n",
       "      <td>2OmdTYQXXG2qVokHKnrMdQ</td>\n",
       "      <td>4.0</td>\n",
       "      <td>0.0</td>\n",
       "      <td>0.0</td>\n",
       "      <td>0.0</td>\n",
       "      <td>Haven't had anything but the steak and cheese ...</td>\n",
       "      <td>2016-03-18 14:16:25</td>\n",
       "    </tr>\n",
       "    <tr>\n",
       "      <td>2</td>\n",
       "      <td>7aLkFEBnL1LJmQdcuaovuQ</td>\n",
       "      <td>P0gS1b7yPJBfWuBJqRYSZQ</td>\n",
       "      <td>jc-DVxWCEn0xULBTWgsYnw</td>\n",
       "      <td>4.0</td>\n",
       "      <td>1.0</td>\n",
       "      <td>1.0</td>\n",
       "      <td>1.0</td>\n",
       "      <td>Nice place.great beer selection, super nice st...</td>\n",
       "      <td>2017-01-15 03:41:30</td>\n",
       "    </tr>\n",
       "    <tr>\n",
       "      <td>3</td>\n",
       "      <td>7aLkFEBnL1LJmQdcuaovuQ</td>\n",
       "      <td>ipNzgKpje7eL9XC7jS8P0g</td>\n",
       "      <td>wNnkBAPmyZMETAmwYbKZUQ</td>\n",
       "      <td>3.0</td>\n",
       "      <td>1.0</td>\n",
       "      <td>0.0</td>\n",
       "      <td>0.0</td>\n",
       "      <td>Atmosphere is very relaxed and chill, they off...</td>\n",
       "      <td>2016-11-24 01:51:15</td>\n",
       "    </tr>\n",
       "    <tr>\n",
       "      <td>4</td>\n",
       "      <td>0lFAD4CuWcQVl9u3-lRaCQ</td>\n",
       "      <td>em3NBHWiD_0CyngJl579Aw</td>\n",
       "      <td>kDJB55VTl7pxtqaosPdpyw</td>\n",
       "      <td>1.0</td>\n",
       "      <td>1.0</td>\n",
       "      <td>0.0</td>\n",
       "      <td>0.0</td>\n",
       "      <td>Sitting at the table right now. Have not even ...</td>\n",
       "      <td>2015-03-04 21:37:34</td>\n",
       "    </tr>\n",
       "    <tr>\n",
       "      <td>...</td>\n",
       "      <td>...</td>\n",
       "      <td>...</td>\n",
       "      <td>...</td>\n",
       "      <td>...</td>\n",
       "      <td>...</td>\n",
       "      <td>...</td>\n",
       "      <td>...</td>\n",
       "      <td>...</td>\n",
       "      <td>...</td>\n",
       "    </tr>\n",
       "    <tr>\n",
       "      <td>6446</td>\n",
       "      <td>ghovD5ZTGDQ5Q2U4ERddWw</td>\n",
       "      <td>VEUN28rzGmxOHEZJAteDiw</td>\n",
       "      <td>GY2zI1WWM0Ef4lTeF1z2mw</td>\n",
       "      <td>4.0</td>\n",
       "      <td>0.0</td>\n",
       "      <td>0.0</td>\n",
       "      <td>0.0</td>\n",
       "      <td>Great burgers. Hate that the only portion of f...</td>\n",
       "      <td>2011-10-22 01:23:10</td>\n",
       "    </tr>\n",
       "    <tr>\n",
       "      <td>6447</td>\n",
       "      <td>ghovD5ZTGDQ5Q2U4ERddWw</td>\n",
       "      <td>igJ6hjC3ETuQQYcYcxYc_g</td>\n",
       "      <td>08DZYwGwN8hX6V7t607g7Q</td>\n",
       "      <td>5.0</td>\n",
       "      <td>2.0</td>\n",
       "      <td>1.0</td>\n",
       "      <td>1.0</td>\n",
       "      <td>The people here are incredibly friendly and th...</td>\n",
       "      <td>2015-09-19 01:02:59</td>\n",
       "    </tr>\n",
       "    <tr>\n",
       "      <td>6448</td>\n",
       "      <td>p1eUTUB_5hf1enoKYBV3DA</td>\n",
       "      <td>5vt9FZre5dqksWzpj-8gCg</td>\n",
       "      <td>WKneD6tKr18q0ey0QbHBaA</td>\n",
       "      <td>3.0</td>\n",
       "      <td>1.0</td>\n",
       "      <td>0.0</td>\n",
       "      <td>0.0</td>\n",
       "      <td>I wasnt impressed. The place is beautiful and ...</td>\n",
       "      <td>2012-04-25 16:51:38</td>\n",
       "    </tr>\n",
       "    <tr>\n",
       "      <td>6449</td>\n",
       "      <td>p1eUTUB_5hf1enoKYBV3DA</td>\n",
       "      <td>gLKSsgs4t2XPvfg6wOPuEQ</td>\n",
       "      <td>PxB2oZXO9N_4Zo2VIPUuGA</td>\n",
       "      <td>1.0</td>\n",
       "      <td>1.0</td>\n",
       "      <td>0.0</td>\n",
       "      <td>0.0</td>\n",
       "      <td>Last night some friends and I dined at this es...</td>\n",
       "      <td>2018-02-22 22:32:44</td>\n",
       "    </tr>\n",
       "    <tr>\n",
       "      <td>6450</td>\n",
       "      <td>p1eUTUB_5hf1enoKYBV3DA</td>\n",
       "      <td>rfBIASixMVfCa_2DKfsLeA</td>\n",
       "      <td>d_wsHVzrqu8vBhDKhZtNbQ</td>\n",
       "      <td>2.0</td>\n",
       "      <td>0.0</td>\n",
       "      <td>1.0</td>\n",
       "      <td>0.0</td>\n",
       "      <td>First let me list the positives.  The restaura...</td>\n",
       "      <td>2009-04-23 18:38:23</td>\n",
       "    </tr>\n",
       "  </tbody>\n",
       "</table>\n",
       "<p>455225 rows × 9 columns</p>\n",
       "</div>"
      ],
      "text/plain": [
       "                 business_id               review_id                 user_id  \\\n",
       "0     fweCYi8FmbJXHCqLnwuk8w  PnKm8y0thZ5ZdWhuOk7Opg  VJvQiGrmtFXAmswRRIWYYw   \n",
       "1     fweCYi8FmbJXHCqLnwuk8w  UkLxSPjJr1jpIjCtcKx7GA  2OmdTYQXXG2qVokHKnrMdQ   \n",
       "2     7aLkFEBnL1LJmQdcuaovuQ  P0gS1b7yPJBfWuBJqRYSZQ  jc-DVxWCEn0xULBTWgsYnw   \n",
       "3     7aLkFEBnL1LJmQdcuaovuQ  ipNzgKpje7eL9XC7jS8P0g  wNnkBAPmyZMETAmwYbKZUQ   \n",
       "4     0lFAD4CuWcQVl9u3-lRaCQ  em3NBHWiD_0CyngJl579Aw  kDJB55VTl7pxtqaosPdpyw   \n",
       "...                      ...                     ...                     ...   \n",
       "6446  ghovD5ZTGDQ5Q2U4ERddWw  VEUN28rzGmxOHEZJAteDiw  GY2zI1WWM0Ef4lTeF1z2mw   \n",
       "6447  ghovD5ZTGDQ5Q2U4ERddWw  igJ6hjC3ETuQQYcYcxYc_g  08DZYwGwN8hX6V7t607g7Q   \n",
       "6448  p1eUTUB_5hf1enoKYBV3DA  5vt9FZre5dqksWzpj-8gCg  WKneD6tKr18q0ey0QbHBaA   \n",
       "6449  p1eUTUB_5hf1enoKYBV3DA  gLKSsgs4t2XPvfg6wOPuEQ  PxB2oZXO9N_4Zo2VIPUuGA   \n",
       "6450  p1eUTUB_5hf1enoKYBV3DA  rfBIASixMVfCa_2DKfsLeA  d_wsHVzrqu8vBhDKhZtNbQ   \n",
       "\n",
       "      review_stars  useful  funny  cool  \\\n",
       "0              5.0     0.0    0.0   0.0   \n",
       "1              4.0     0.0    0.0   0.0   \n",
       "2              4.0     1.0    1.0   1.0   \n",
       "3              3.0     1.0    0.0   0.0   \n",
       "4              1.0     1.0    0.0   0.0   \n",
       "...            ...     ...    ...   ...   \n",
       "6446           4.0     0.0    0.0   0.0   \n",
       "6447           5.0     2.0    1.0   1.0   \n",
       "6448           3.0     1.0    0.0   0.0   \n",
       "6449           1.0     1.0    0.0   0.0   \n",
       "6450           2.0     0.0    1.0   0.0   \n",
       "\n",
       "                                                   text                 date  \n",
       "0     Hands down, this is the best pizza place in Me...  2017-06-27 23:35:47  \n",
       "1     Haven't had anything but the steak and cheese ...  2016-03-18 14:16:25  \n",
       "2     Nice place.great beer selection, super nice st...  2017-01-15 03:41:30  \n",
       "3     Atmosphere is very relaxed and chill, they off...  2016-11-24 01:51:15  \n",
       "4     Sitting at the table right now. Have not even ...  2015-03-04 21:37:34  \n",
       "...                                                 ...                  ...  \n",
       "6446  Great burgers. Hate that the only portion of f...  2011-10-22 01:23:10  \n",
       "6447  The people here are incredibly friendly and th...  2015-09-19 01:02:59  \n",
       "6448  I wasnt impressed. The place is beautiful and ...  2012-04-25 16:51:38  \n",
       "6449  Last night some friends and I dined at this es...  2018-02-22 22:32:44  \n",
       "6450  First let me list the positives.  The restaura...  2009-04-23 18:38:23  \n",
       "\n",
       "[455225 rows x 9 columns]"
      ]
     },
     "execution_count": 17,
     "metadata": {},
     "output_type": "execute_result"
    }
   ],
   "source": [
    "merged"
   ]
  },
  {
   "cell_type": "markdown",
   "metadata": {},
   "source": [
    "### Format data matrix\n",
    "The goal of the model is to predict business stars based on review text\n",
    "want a matrix with business stars and text for all reviews\n",
    "use nltk to do modeling and sentiment analysis"
   ]
  },
  {
   "cell_type": "code",
   "execution_count": 18,
   "metadata": {},
   "outputs": [],
   "source": [
    "merged.drop(['user_id',\n",
    "             'review_id',\n",
    "             'useful',\n",
    "             'funny',\n",
    "             'cool',\n",
    "             'date'],\n",
    "            axis=1,\n",
    "            inplace=True)\n",
    "merged = merged[pd.notnull(merged.text)]\n",
    "merged.reset_index(drop=True, inplace=True)"
   ]
  },
  {
   "cell_type": "code",
   "execution_count": 19,
   "metadata": {},
   "outputs": [
    {
     "data": {
      "text/html": [
       "<div>\n",
       "<style scoped>\n",
       "    .dataframe tbody tr th:only-of-type {\n",
       "        vertical-align: middle;\n",
       "    }\n",
       "\n",
       "    .dataframe tbody tr th {\n",
       "        vertical-align: top;\n",
       "    }\n",
       "\n",
       "    .dataframe thead th {\n",
       "        text-align: right;\n",
       "    }\n",
       "</style>\n",
       "<table border=\"1\" class=\"dataframe\">\n",
       "  <thead>\n",
       "    <tr style=\"text-align: right;\">\n",
       "      <th></th>\n",
       "      <th>business_id</th>\n",
       "      <th>review_stars</th>\n",
       "      <th>text</th>\n",
       "    </tr>\n",
       "  </thead>\n",
       "  <tbody>\n",
       "    <tr>\n",
       "      <td>0</td>\n",
       "      <td>fweCYi8FmbJXHCqLnwuk8w</td>\n",
       "      <td>5.0</td>\n",
       "      <td>Hands down, this is the best pizza place in Me...</td>\n",
       "    </tr>\n",
       "    <tr>\n",
       "      <td>1</td>\n",
       "      <td>fweCYi8FmbJXHCqLnwuk8w</td>\n",
       "      <td>4.0</td>\n",
       "      <td>Haven't had anything but the steak and cheese ...</td>\n",
       "    </tr>\n",
       "    <tr>\n",
       "      <td>2</td>\n",
       "      <td>7aLkFEBnL1LJmQdcuaovuQ</td>\n",
       "      <td>4.0</td>\n",
       "      <td>Nice place.great beer selection, super nice st...</td>\n",
       "    </tr>\n",
       "    <tr>\n",
       "      <td>3</td>\n",
       "      <td>7aLkFEBnL1LJmQdcuaovuQ</td>\n",
       "      <td>3.0</td>\n",
       "      <td>Atmosphere is very relaxed and chill, they off...</td>\n",
       "    </tr>\n",
       "    <tr>\n",
       "      <td>4</td>\n",
       "      <td>0lFAD4CuWcQVl9u3-lRaCQ</td>\n",
       "      <td>1.0</td>\n",
       "      <td>Sitting at the table right now. Have not even ...</td>\n",
       "    </tr>\n",
       "    <tr>\n",
       "      <td>...</td>\n",
       "      <td>...</td>\n",
       "      <td>...</td>\n",
       "      <td>...</td>\n",
       "    </tr>\n",
       "    <tr>\n",
       "      <td>198816</td>\n",
       "      <td>ghovD5ZTGDQ5Q2U4ERddWw</td>\n",
       "      <td>4.0</td>\n",
       "      <td>Great burgers. Hate that the only portion of f...</td>\n",
       "    </tr>\n",
       "    <tr>\n",
       "      <td>198817</td>\n",
       "      <td>ghovD5ZTGDQ5Q2U4ERddWw</td>\n",
       "      <td>5.0</td>\n",
       "      <td>The people here are incredibly friendly and th...</td>\n",
       "    </tr>\n",
       "    <tr>\n",
       "      <td>198818</td>\n",
       "      <td>p1eUTUB_5hf1enoKYBV3DA</td>\n",
       "      <td>3.0</td>\n",
       "      <td>I wasnt impressed. The place is beautiful and ...</td>\n",
       "    </tr>\n",
       "    <tr>\n",
       "      <td>198819</td>\n",
       "      <td>p1eUTUB_5hf1enoKYBV3DA</td>\n",
       "      <td>1.0</td>\n",
       "      <td>Last night some friends and I dined at this es...</td>\n",
       "    </tr>\n",
       "    <tr>\n",
       "      <td>198820</td>\n",
       "      <td>p1eUTUB_5hf1enoKYBV3DA</td>\n",
       "      <td>2.0</td>\n",
       "      <td>First let me list the positives.  The restaura...</td>\n",
       "    </tr>\n",
       "  </tbody>\n",
       "</table>\n",
       "<p>198821 rows × 3 columns</p>\n",
       "</div>"
      ],
      "text/plain": [
       "                   business_id  review_stars  \\\n",
       "0       fweCYi8FmbJXHCqLnwuk8w           5.0   \n",
       "1       fweCYi8FmbJXHCqLnwuk8w           4.0   \n",
       "2       7aLkFEBnL1LJmQdcuaovuQ           4.0   \n",
       "3       7aLkFEBnL1LJmQdcuaovuQ           3.0   \n",
       "4       0lFAD4CuWcQVl9u3-lRaCQ           1.0   \n",
       "...                        ...           ...   \n",
       "198816  ghovD5ZTGDQ5Q2U4ERddWw           4.0   \n",
       "198817  ghovD5ZTGDQ5Q2U4ERddWw           5.0   \n",
       "198818  p1eUTUB_5hf1enoKYBV3DA           3.0   \n",
       "198819  p1eUTUB_5hf1enoKYBV3DA           1.0   \n",
       "198820  p1eUTUB_5hf1enoKYBV3DA           2.0   \n",
       "\n",
       "                                                     text  \n",
       "0       Hands down, this is the best pizza place in Me...  \n",
       "1       Haven't had anything but the steak and cheese ...  \n",
       "2       Nice place.great beer selection, super nice st...  \n",
       "3       Atmosphere is very relaxed and chill, they off...  \n",
       "4       Sitting at the table right now. Have not even ...  \n",
       "...                                                   ...  \n",
       "198816  Great burgers. Hate that the only portion of f...  \n",
       "198817  The people here are incredibly friendly and th...  \n",
       "198818  I wasnt impressed. The place is beautiful and ...  \n",
       "198819  Last night some friends and I dined at this es...  \n",
       "198820  First let me list the positives.  The restaura...  \n",
       "\n",
       "[198821 rows x 3 columns]"
      ]
     },
     "execution_count": 19,
     "metadata": {},
     "output_type": "execute_result"
    }
   ],
   "source": [
    "merged"
   ]
  },
  {
   "cell_type": "markdown",
   "metadata": {},
   "source": [
    "### Build word buckets"
   ]
  },
  {
   "cell_type": "code",
   "execution_count": 20,
   "metadata": {},
   "outputs": [],
   "source": [
    "df_buckets = merged.drop(columns = 'review_stars')"
   ]
  },
  {
   "cell_type": "code",
   "execution_count": 21,
   "metadata": {},
   "outputs": [],
   "source": [
    "df_buckets = pd.DataFrame(merged.groupby('business_id').text.sum())"
   ]
  },
  {
   "cell_type": "code",
   "execution_count": 22,
   "metadata": {},
   "outputs": [],
   "source": [
    "df_buckets = df_buckets.astype({'text': 'category'})"
   ]
  },
  {
   "cell_type": "code",
   "execution_count": 23,
   "metadata": {},
   "outputs": [],
   "source": [
    "df_buckets = df_buckets.merge(pd.concat([state_business.business_id, state_business.stars], axis=1), on='business_id', how='left')"
   ]
  },
  {
   "cell_type": "code",
   "execution_count": 24,
   "metadata": {},
   "outputs": [
    {
     "data": {
      "text/html": [
       "<div>\n",
       "<style scoped>\n",
       "    .dataframe tbody tr th:only-of-type {\n",
       "        vertical-align: middle;\n",
       "    }\n",
       "\n",
       "    .dataframe tbody tr th {\n",
       "        vertical-align: top;\n",
       "    }\n",
       "\n",
       "    .dataframe thead th {\n",
       "        text-align: right;\n",
       "    }\n",
       "</style>\n",
       "<table border=\"1\" class=\"dataframe\">\n",
       "  <thead>\n",
       "    <tr style=\"text-align: right;\">\n",
       "      <th></th>\n",
       "      <th>business_id</th>\n",
       "      <th>text</th>\n",
       "      <th>stars</th>\n",
       "    </tr>\n",
       "  </thead>\n",
       "  <tbody>\n",
       "    <tr>\n",
       "      <td>0</td>\n",
       "      <td>--I7YYLada0tSLkORTHb5Q</td>\n",
       "      <td>Had to get my wing fix, I like dry rubs on win...</td>\n",
       "      <td>3.5</td>\n",
       "    </tr>\n",
       "    <tr>\n",
       "      <td>1</td>\n",
       "      <td>--Ni3oJ4VOqfOEu7Sj2Vzg</td>\n",
       "      <td>Best chicken i have ever had it has great flav...</td>\n",
       "      <td>2.0</td>\n",
       "    </tr>\n",
       "    <tr>\n",
       "      <td>2</td>\n",
       "      <td>--S62v0QgkqQaVUhFnNHrw</td>\n",
       "      <td>WORST dining experience EVER! We have to wait ...</td>\n",
       "      <td>2.0</td>\n",
       "    </tr>\n",
       "    <tr>\n",
       "      <td>3</td>\n",
       "      <td>-06-Fdi30wJx-JA8P7CAng</td>\n",
       "      <td>They have amazing chicken pad Thai and sweet &amp;...</td>\n",
       "      <td>3.5</td>\n",
       "    </tr>\n",
       "    <tr>\n",
       "      <td>4</td>\n",
       "      <td>-1HW4ALuB331RgjwHOA0Nw</td>\n",
       "      <td>Was there last night Friday 9/14/18 after gett...</td>\n",
       "      <td>2.0</td>\n",
       "    </tr>\n",
       "  </tbody>\n",
       "</table>\n",
       "</div>"
      ],
      "text/plain": [
       "              business_id                                               text  \\\n",
       "0  --I7YYLada0tSLkORTHb5Q  Had to get my wing fix, I like dry rubs on win...   \n",
       "1  --Ni3oJ4VOqfOEu7Sj2Vzg  Best chicken i have ever had it has great flav...   \n",
       "2  --S62v0QgkqQaVUhFnNHrw  WORST dining experience EVER! We have to wait ...   \n",
       "3  -06-Fdi30wJx-JA8P7CAng  They have amazing chicken pad Thai and sweet &...   \n",
       "4  -1HW4ALuB331RgjwHOA0Nw  Was there last night Friday 9/14/18 after gett...   \n",
       "\n",
       "   stars  \n",
       "0    3.5  \n",
       "1    2.0  \n",
       "2    2.0  \n",
       "3    3.5  \n",
       "4    2.0  "
      ]
     },
     "execution_count": 24,
     "metadata": {},
     "output_type": "execute_result"
    }
   ],
   "source": [
    "df_buckets.head()"
   ]
  },
  {
   "cell_type": "code",
   "execution_count": 25,
   "metadata": {},
   "outputs": [
    {
     "name": "stdout",
     "output_type": "stream",
     "text": [
      "<class 'pandas.core.frame.DataFrame'>\n",
      "Int64Index: 4209 entries, 0 to 4208\n",
      "Data columns (total 3 columns):\n",
      "business_id    4209 non-null object\n",
      "text           4209 non-null category\n",
      "stars          4209 non-null float64\n",
      "dtypes: category(1), float64(1), object(1)\n",
      "memory usage: 299.8+ KB\n"
     ]
    }
   ],
   "source": [
    "df_buckets.info()"
   ]
  },
  {
   "cell_type": "markdown",
   "metadata": {},
   "source": [
    "* df_buckets contains all review text for each business as well as business average rating\n",
    "* review text is the X matrix\n",
    "* stars is the y vector"
   ]
  },
  {
   "cell_type": "markdown",
   "metadata": {},
   "source": [
    "### EDA"
   ]
  },
  {
   "cell_type": "markdown",
   "metadata": {},
   "source": [
    "In data analysis phase, we dug into the dataset to find insights from reviews for restaurants in Pittsburgh. There are 3 main parts in this section:\n",
    "\n",
    "- Data Preprocessing: extract useful information from raw data\n",
    "- General Observations: explore correlation between fields in dataset\n",
    "- Popolar Topics in Reviews: find out the most popular thing that customers care about in reviews"
   ]
  },
  {
   "cell_type": "markdown",
   "metadata": {},
   "source": [
    "#### Data Preprocessing"
   ]
  },
  {
   "cell_type": "markdown",
   "metadata": {},
   "source": [
    "For our data, we focus on the relationship between review text and rating user gave for each review. We want to take review length into consideration, trying to find out if there is relationship between length of reviews and ratings people give."
   ]
  },
  {
   "cell_type": "code",
   "execution_count": 22,
   "metadata": {},
   "outputs": [
    {
     "name": "stderr",
     "output_type": "stream",
     "text": [
      "/usr/local/lib/python3.6/dist-packages/ipykernel_launcher.py:3: SettingWithCopyWarning: \n",
      "A value is trying to be set on a copy of a slice from a DataFrame.\n",
      "Try using .loc[row_indexer,col_indexer] = value instead\n",
      "\n",
      "See the caveats in the documentation: http://pandas.pydata.org/pandas-docs/stable/user_guide/indexing.html#returning-a-view-versus-a-copy\n",
      "  This is separate from the ipykernel package so we can avoid doing imports until\n",
      "/usr/local/lib/python3.6/dist-packages/pandas/core/frame.py:4102: SettingWithCopyWarning: \n",
      "A value is trying to be set on a copy of a slice from a DataFrame\n",
      "\n",
      "See the caveats in the documentation: http://pandas.pydata.org/pandas-docs/stable/user_guide/indexing.html#returning-a-view-versus-a-copy\n",
      "  errors=errors,\n"
     ]
    }
   ],
   "source": [
    "def pre_process(df):\n",
    "    # add length column to record word count of reviews\n",
    "    df['length'] = df['text'].astype(str).apply(word_count)\n",
    "    \n",
    "    return df\n",
    "    \n",
    "def word_count(str):\n",
    "    return len(str.split())\n",
    "\n",
    "df_text_length = pre_process(merged)\n",
    "df_text_length.drop(['business_id'], axis=1, inplace=True)"
   ]
  },
  {
   "cell_type": "markdown",
   "metadata": {},
   "source": [
    "The dataframe after preprocessing can be seen as follows."
   ]
  },
  {
   "cell_type": "code",
   "execution_count": 23,
   "metadata": {
    "scrolled": true
   },
   "outputs": [
    {
     "data": {
      "text/html": [
       "<div>\n",
       "<style scoped>\n",
       "    .dataframe tbody tr th:only-of-type {\n",
       "        vertical-align: middle;\n",
       "    }\n",
       "\n",
       "    .dataframe tbody tr th {\n",
       "        vertical-align: top;\n",
       "    }\n",
       "\n",
       "    .dataframe thead th {\n",
       "        text-align: right;\n",
       "    }\n",
       "</style>\n",
       "<table border=\"1\" class=\"dataframe\">\n",
       "  <thead>\n",
       "    <tr style=\"text-align: right;\">\n",
       "      <th></th>\n",
       "      <th>review_stars</th>\n",
       "      <th>text</th>\n",
       "      <th>length</th>\n",
       "    </tr>\n",
       "  </thead>\n",
       "  <tbody>\n",
       "    <tr>\n",
       "      <td>0</td>\n",
       "      <td>5.0</td>\n",
       "      <td>Hands down, this is the best pizza place in Me...</td>\n",
       "      <td>56</td>\n",
       "    </tr>\n",
       "    <tr>\n",
       "      <td>1</td>\n",
       "      <td>4.0</td>\n",
       "      <td>Haven't had anything but the steak and cheese ...</td>\n",
       "      <td>40</td>\n",
       "    </tr>\n",
       "    <tr>\n",
       "      <td>2</td>\n",
       "      <td>4.0</td>\n",
       "      <td>Nice place.great beer selection, super nice st...</td>\n",
       "      <td>17</td>\n",
       "    </tr>\n",
       "    <tr>\n",
       "      <td>3</td>\n",
       "      <td>3.0</td>\n",
       "      <td>Atmosphere is very relaxed and chill, they off...</td>\n",
       "      <td>61</td>\n",
       "    </tr>\n",
       "    <tr>\n",
       "      <td>4</td>\n",
       "      <td>1.0</td>\n",
       "      <td>Sitting at the table right now. Have not even ...</td>\n",
       "      <td>58</td>\n",
       "    </tr>\n",
       "  </tbody>\n",
       "</table>\n",
       "</div>"
      ],
      "text/plain": [
       "   review_stars                                               text  length\n",
       "0           5.0  Hands down, this is the best pizza place in Me...      56\n",
       "1           4.0  Haven't had anything but the steak and cheese ...      40\n",
       "2           4.0  Nice place.great beer selection, super nice st...      17\n",
       "3           3.0  Atmosphere is very relaxed and chill, they off...      61\n",
       "4           1.0  Sitting at the table right now. Have not even ...      58"
      ]
     },
     "execution_count": 23,
     "metadata": {},
     "output_type": "execute_result"
    }
   ],
   "source": [
    "df_text_length.head()"
   ]
  },
  {
   "cell_type": "markdown",
   "metadata": {},
   "source": [
    "#### General Obeservations"
   ]
  },
  {
   "cell_type": "markdown",
   "metadata": {},
   "source": [
    "After one step of data extraction and cleaning from original data scraped from website. In this part, we will show some facts we found by simply analysing the raw text and word length for each of them. We mainly did visualization on relationship between review length and rating.\n",
    "\n",
    "- Review Length v.s Rating\n",
    "\n",
    "This graph shows the review length distribution for each rating. Y-axis displays the absolute number of reviews falling in each bin."
   ]
  },
  {
   "cell_type": "code",
   "execution_count": null,
   "metadata": {},
   "outputs": [
    {
     "data": {
      "image/png": "[encoded data removed]",
      "text/plain": [
       "<Figure size 1080x216 with 5 Axes>"
      ]
     },
     "metadata": {
      "needs_background": "light"
     },
     "output_type": "display_data"
    }
   ],
   "source": [
    "# dataframe df as input, separated by ratings.\n",
    "g = sns.FacetGrid(data=df_text_length, col='review_stars')\n",
    "# Drow histogram, x-axis is word number, y-axis is number of each bin.\n",
    "g.map(plt.hist, 'length', bins=15, range = (0,500))\n",
    "# display\n",
    "plt.show()"
   ]
  },
  {
   "cell_type": "markdown",
   "metadata": {},
   "source": [
    "- Review length v.s Rating (relative)\n",
    "\n",
    "As the number of reviews for each rating are different, the previous distribution may not reflect the distribution in each rating clearly. So, we further did visualization in relative way, so that the distribution in each subplot is standalone."
   ]
  },
  {
   "cell_type": "code",
   "execution_count": null,
   "metadata": {
    "scrolled": true
   },
   "outputs": [
    {
     "name": "stdout",
     "output_type": "stream",
     "text": [
      "mean = 118.15250830632922\n"
     ]
    },
    {
     "data": {
      "image/png": "[encoded data removed]",
      "text/plain": [
       "<Figure size 432x288 with 1 Axes>"
      ]
     },
     "metadata": {
      "needs_background": "light"
     },
     "output_type": "display_data"
    },
    {
     "name": "stdout",
     "output_type": "stream",
     "text": [
      "mean = 129.3868747372846\n"
     ]
    },
    {
     "data": {
      "image/png": "[encoded data removed]",
      "text/plain": [
       "<Figure size 432x288 with 1 Axes>"
      ]
     },
     "metadata": {
      "needs_background": "light"
     },
     "output_type": "display_data"
    },
    {
     "name": "stdout",
     "output_type": "stream",
     "text": [
      "mean = 123.66956244520603\n"
     ]
    },
    {
     "data": {
      "image/png": "[encoded data removed]",
      "text/plain": [
       "<Figure size 432x288 with 1 Axes>"
      ]
     },
     "metadata": {
      "needs_background": "light"
     },
     "output_type": "display_data"
    },
    {
     "name": "stdout",
     "output_type": "stream",
     "text": [
      "mean = 106.56408775981524\n"
     ]
    },
    {
     "data": {
      "image/png": "[encoded data removed]",
      "text/plain": [
       "<Figure size 432x288 with 1 Axes>"
      ]
     },
     "metadata": {
      "needs_background": "light"
     },
     "output_type": "display_data"
    },
    {
     "name": "stdout",
     "output_type": "stream",
     "text": [
      "mean = 84.69213589259279\n"
     ]
    },
    {
     "data": {
      "image/png": "[encoded data removed]",
      "text/plain": [
       "<Figure size 432x288 with 1 Axes>"
      ]
     },
     "metadata": {
      "needs_background": "light"
     },
     "output_type": "display_data"
    }
   ],
   "source": [
    "# Store average length for each rating\n",
    "average_length_list = []\n",
    "\n",
    "# Loop each rating\n",
    "for stars in range(1, 6):\n",
    "    # Extract the dataframe with this rating\n",
    "    rating_curr = df_text_length[(df_text_length.review_stars == stars)]\n",
    "    \n",
    "    # Plot by taking this sub-df as input\n",
    "    plot = sns.distplot(rating_curr['length'],label='rating='+str(stars),axlabel='Length of the Reviews',color=\"c\")\n",
    "    \n",
    "    # Set title\n",
    "    plt.title('Rating='+str(stars))\n",
    "    \n",
    "    # Save the figure as image\n",
    "    fig = plot.get_figure()\n",
    "    fig.savefig('rating_' + str(stars) + '.png')\n",
    "    \n",
    "    # Display the average length for each rating\n",
    "    print ('mean =',np.mean(rating_curr['length']))\n",
    "    \n",
    "    # update list\n",
    "    average_length_list.append(np.mean(rating_curr['length']))\n",
    "    \n",
    "    # Display figure\n",
    "    plt.show()"
   ]
  },
  {
   "cell_type": "markdown",
   "metadata": {},
   "source": [
    "- Average Length of Each Rating\n",
    "\n",
    "Based on the previous exploration, we found the average review length for each rating is different.\n",
    "\n",
    "What's more, the length and rating shows a trends: People tends to write longer reviews when giving low ratings, while they prefer to write less words in reviews when giving high ratings.\n",
    "\n",
    "As we can see, the average length for 5-star is only 84.69 words, while the average word number is more than 122 for 2-star and 1-star."
   ]
  },
  {
   "cell_type": "code",
   "execution_count": null,
   "metadata": {
    "scrolled": true
   },
   "outputs": [
    {
     "data": {
      "image/png": "[encoded data removed]",
      "text/plain": [
       "<Figure size 432x288 with 1 Axes>"
      ]
     },
     "metadata": {
      "needs_background": "light"
     },
     "output_type": "display_data"
    }
   ],
   "source": [
    "# There are totally 5 classes of rating, from 1 to 5.\n",
    "rating_classes = [1,2,3,4,5]\n",
    "\n",
    "fig, ax = plt.subplots()\n",
    "\n",
    "# Plot by bar graph\n",
    "plt.barh(rating_classes, average_length_list)\n",
    "\n",
    "# Label in x and y-axis\n",
    "ax.set_xlabel('Average Length of Reviews')\n",
    "ax.set_ylabel('Rating')\n",
    "\n",
    "# Save the figure\n",
    "plt.savefig(\"average_length.png\")\n",
    "\n",
    "# Display\n",
    "plt.show()"
   ]
  },
  {
   "cell_type": "markdown",
   "metadata": {},
   "source": [
    "- Number of Reviews for Each Rating\n",
    "\n",
    "First, we show the number of reviews for each rating. We found that people tends to write longer reviews as the number of reviews rated 4-star and 5-star contains nearly 66% of the total."
   ]
  },
  {
   "cell_type": "code",
   "execution_count": null,
   "metadata": {},
   "outputs": [
    {
     "data": {
      "image/png": "[encoded data removed]",
      "text/plain": [
       "<Figure size 432x288 with 1 Axes>"
      ]
     },
     "metadata": {
      "needs_background": "light"
     },
     "output_type": "display_data"
    }
   ],
   "source": [
    "# Number of reviews of each rating\n",
    "rating_size = [len(merged[merged.review_stars == 1.0]), len(merged[merged.review_stars == 2.0]), len(merged[merged.review_stars == 3.0]), \\\n",
    "              len(merged[merged.review_stars == 4.0]), len(merged[merged.review_stars == 5.0])]\n",
    "\n",
    "fig, ax = plt.subplots()\n",
    "\n",
    "# Draw a bar graph\n",
    "plt.bar(rating_classes, rating_size, color = 'c')\n",
    "\n",
    "# Set x-label\n",
    "ax.set_xlabel('Rating')\n",
    "\n",
    "# Set title\n",
    "plt.title('Number of Reviews')\n",
    "\n",
    "# Write number of reviews in each bar\n",
    "for i, (rating_a, size_a) in enumerate(zip(rating_classes, rating_size)):\n",
    "    plt.text(s=str(size_a), x=i+0.65, y=size_a-5000, color=\"w\",\n",
    "             verticalalignment=\"center\", horizontalalignment=\"left\", size=14)\n",
    "\n",
    "# Remove the line borders\n",
    "ax.spines['right'].set_visible(False)\n",
    "ax.spines['top'].set_visible(False)\n",
    "ax.spines['left'].set_visible(False)\n",
    "\n",
    "ax.yaxis.set_ticks([])\n",
    "\n",
    "# Save figure\n",
    "plt.savefig(\"reviews_size.png\")\n",
    "\n",
    "# Display\n",
    "plt.show()"
   ]
  },
  {
   "cell_type": "markdown",
   "metadata": {},
   "source": [
    "#### Popular topics in reviews\n",
    "We are curious about what are the most significant points that customers care about. What do people say for low rating reviews? What do they like most in their favourite restaurants?\n",
    "\n",
    "#### Topic Modeling with LDA\n",
    "To answer these questions, we utilized Latent Dirichlet Allocation (LDA) to do topics modeling, a popular algorithm for topic modeling with excellent implementations in the Python's Gensim package. We want to know what people talk about in good and bad reviews, so that we did topics modeling for good reviews and bad reviews seperately."
   ]
  },
  {
   "cell_type": "code",
   "execution_count": 21,
   "metadata": {},
   "outputs": [],
   "source": [
    "def text_process(text):\n",
    "    \"\"\" Remove punctuations and stop words from text\n",
    "        Args: \n",
    "            text(string)\n",
    "        Returns:\n",
    "            (list): list of words after processing\n",
    "    \"\"\"\n",
    "    nopunc = [char for char in text if char not in string.punctuation]\n",
    "    nopunc = ''.join(nopunc)\n",
    "    \n",
    "    return [word for word in nopunc.split() if word.lower() not in stopwords.words('english')]"
   ]
  },
  {
   "cell_type": "code",
   "execution_count": 22,
   "metadata": {},
   "outputs": [],
   "source": [
    "def get_docs_for_rating(rating):\n",
    "    \"\"\" Get all reviews under a certain rating\n",
    "        Args:\n",
    "            rating(integer)\n",
    "        Returns:\n",
    "            (list): review list with each of them a processed word list\n",
    "    \"\"\"\n",
    "    raw_text_list = df_text_length[df_text_length.review_stars == rating].text.tolist()\n",
    "    return [text_process(doc) for doc in raw_text_list]"
   ]
  },
  {
   "cell_type": "code",
   "execution_count": 23,
   "metadata": {},
   "outputs": [],
   "source": [
    "# We generated LDA model by ldamodel module in Gensim.\n",
    "def lda_model(docs):\n",
    "    \"\"\"\n",
    "        Generate LDA model for docs\n",
    "        Args:\n",
    "            docs(list): list of documents\n",
    "        Returns:\n",
    "            lda_model(LdaModel): LDA model generated by gensim\n",
    "            dictionary(corpora.Dictionary): a mapping between words and their integer ids\n",
    "            corpus(list of list): Bag of Word representation of documents \n",
    "    \"\"\"\n",
    "    dictionary = corpora.Dictionary(docs)\n",
    "    corpus = [dictionary.doc2bow(text) for text in docs]\n",
    "\n",
    "    lda_model = gensim.models.ldamodel.LdaModel(corpus=corpus,\n",
    "                                           id2word=dictionary,\n",
    "                                           num_topics=10, \n",
    "                                           random_state=100,\n",
    "                                           update_every=1,\n",
    "                                           chunksize=100,\n",
    "                                           passes=10,\n",
    "                                           alpha='auto',\n",
    "                                           per_word_topics=True)\n",
    "    return lda_model, dictionary, corpus"
   ]
  },
  {
   "cell_type": "code",
   "execution_count": 24,
   "metadata": {},
   "outputs": [
    {
     "ename": "NameError",
     "evalue": "name 'df_text_length' is not defined",
     "output_type": "error",
     "traceback": [
      "\u001b[0;31m---------------------------------------------------------------------------\u001b[0m",
      "\u001b[0;31mNameError\u001b[0m                                 Traceback (most recent call last)",
      "\u001b[0;32m<ipython-input-24-da6b41885701>\u001b[0m in \u001b[0;36m<module>\u001b[0;34m\u001b[0m\n\u001b[1;32m      1\u001b[0m \u001b[0mlow_rating\u001b[0m \u001b[0;34m=\u001b[0m \u001b[0;36m1.0\u001b[0m\u001b[0;34m\u001b[0m\u001b[0;34m\u001b[0m\u001b[0m\n\u001b[0;32m----> 2\u001b[0;31m \u001b[0mlow_docs\u001b[0m \u001b[0;34m=\u001b[0m \u001b[0mget_docs_for_rating\u001b[0m\u001b[0;34m(\u001b[0m\u001b[0mlow_rating\u001b[0m\u001b[0;34m)\u001b[0m\u001b[0;34m\u001b[0m\u001b[0;34m\u001b[0m\u001b[0m\n\u001b[0m\u001b[1;32m      3\u001b[0m \u001b[0mlow_lda_model\u001b[0m\u001b[0;34m,\u001b[0m \u001b[0mlow_dictionary\u001b[0m\u001b[0;34m,\u001b[0m \u001b[0mlow_corpus\u001b[0m \u001b[0;34m=\u001b[0m \u001b[0mlda_model\u001b[0m\u001b[0;34m(\u001b[0m\u001b[0mlow_docs\u001b[0m\u001b[0;34m)\u001b[0m\u001b[0;34m\u001b[0m\u001b[0;34m\u001b[0m\u001b[0m\n",
      "\u001b[0;32m<ipython-input-22-abb3019e5951>\u001b[0m in \u001b[0;36mget_docs_for_rating\u001b[0;34m(rating)\u001b[0m\n\u001b[1;32m      6\u001b[0m             \u001b[0;34m(\u001b[0m\u001b[0mlist\u001b[0m\u001b[0;34m)\u001b[0m\u001b[0;34m:\u001b[0m \u001b[0mreview\u001b[0m \u001b[0mlist\u001b[0m \u001b[0;32mwith\u001b[0m \u001b[0meach\u001b[0m \u001b[0mof\u001b[0m \u001b[0mthem\u001b[0m \u001b[0ma\u001b[0m \u001b[0mprocessed\u001b[0m \u001b[0mword\u001b[0m \u001b[0mlist\u001b[0m\u001b[0;34m\u001b[0m\u001b[0;34m\u001b[0m\u001b[0m\n\u001b[1;32m      7\u001b[0m     \"\"\"\n\u001b[0;32m----> 8\u001b[0;31m     \u001b[0mraw_text_list\u001b[0m \u001b[0;34m=\u001b[0m \u001b[0mdf_text_length\u001b[0m\u001b[0;34m[\u001b[0m\u001b[0mdf_text_length\u001b[0m\u001b[0;34m.\u001b[0m\u001b[0mreview_stars\u001b[0m \u001b[0;34m==\u001b[0m \u001b[0mrating\u001b[0m\u001b[0;34m]\u001b[0m\u001b[0;34m.\u001b[0m\u001b[0mtext\u001b[0m\u001b[0;34m.\u001b[0m\u001b[0mtolist\u001b[0m\u001b[0;34m(\u001b[0m\u001b[0;34m)\u001b[0m\u001b[0;34m\u001b[0m\u001b[0;34m\u001b[0m\u001b[0m\n\u001b[0m\u001b[1;32m      9\u001b[0m     \u001b[0;32mreturn\u001b[0m \u001b[0;34m[\u001b[0m\u001b[0mtext_process\u001b[0m\u001b[0;34m(\u001b[0m\u001b[0mdoc\u001b[0m\u001b[0;34m)\u001b[0m \u001b[0;32mfor\u001b[0m \u001b[0mdoc\u001b[0m \u001b[0;32min\u001b[0m \u001b[0mraw_text_list\u001b[0m\u001b[0;34m]\u001b[0m\u001b[0;34m\u001b[0m\u001b[0;34m\u001b[0m\u001b[0m\n",
      "\u001b[0;31mNameError\u001b[0m: name 'df_text_length' is not defined"
     ]
    }
   ],
   "source": [
    "low_rating = 1.0\n",
    "low_docs = get_docs_for_rating(low_rating)\n",
    "low_lda_model, low_dictionary, low_corpus = lda_model(low_docs)"
   ]
  },
  {
   "cell_type": "code",
   "execution_count": null,
   "metadata": {},
   "outputs": [],
   "source": [
    "high_rating = 5.0\n",
    "high_docs = get_docs_for_rating(high_rating)\n",
    "\n",
    "high_lda_model, high_dictionary, high_corpus = lda_model(high_docs)"
   ]
  },
  {
   "cell_type": "markdown",
   "metadata": {},
   "source": [
    "We visualized LDA model with pyLDAvis library. It gives us a view of how those topics distribute, and frequency of words in each topic."
   ]
  },
  {
   "cell_type": "code",
   "execution_count": null,
   "metadata": {},
   "outputs": [
    {
     "name": "stderr",
     "output_type": "stream",
     "text": [
      "/usr/local/lib/python3.6/dist-packages/pyLDAvis/_prepare.py:257: FutureWarning: Sorting because non-concatenation axis is not aligned. A future version\n",
      "of pandas will change to not sort by default.\n",
      "\n",
      "To accept the future behavior, pass 'sort=False'.\n",
      "\n",
      "To retain the current behavior and silence the warning, pass 'sort=True'.\n",
      "\n",
      "  return pd.concat([default_term_info] + list(topic_dfs))\n"
     ]
    },
    {
     "data": {
      "text/html": [
       "\n",
       "<link rel=\"stylesheet\" type=\"text/css\" href=\"https://cdn.rawgit.com/bmabey/pyLDAvis/files/ldavis.v1.0.0.css\">\n",
       "\n",
       "\n",
       "<div id=\"ldavis_el178251396968945102087078472682\"></div>\n",
       "<script type=\"text/javascript\">\n",
       "\n",
       "var ldavis_el178251396968945102087078472682_data = {\"mdsDat\": {\"x\": [-0.27089465772561044, -0.22932144123431356, -0.2678301612618833, -0.1764369421434894, 0.010968146400446658, 0.16157935406628576, 0.19039020193274075, 0.1906226583417648, 0.19014142977136822, 0.2007814118526907], \"y\": [0.08167292139377427, -0.01754111628957689, 0.02659644973013939, 0.09534594086279241, -0.4335946144276975, 0.03099307872857514, 0.05368326574407247, 0.05371559879106144, 0.05405818888531215, 0.055070286581547515], \"topics\": [1, 2, 3, 4, 5, 6, 7, 8, 9, 10], \"cluster\": [1, 1, 1, 1, 1, 1, 1, 1, 1, 1], \"Freq\": [26.483366012573242, 24.41489601135254, 19.973207473754883, 15.109533309936523, 7.400229454040527, 2.2506680488586426, 1.2438342571258545, 1.1633895635604858, 1.053168773651123, 0.9077023863792419]}, \"tinfo\": {\"Category\": [\"Default\", \"Default\", \"Default\", \"Default\", \"Default\", \"Default\", \"Default\", \"Default\", \"Default\", \"Default\", \"Default\", \"Default\", \"Default\", \"Default\", \"Default\", \"Default\", \"Default\", \"Default\", \"Default\", \"Default\", \"Default\", \"Default\", \"Default\", \"Default\", \"Default\", \"Default\", \"Default\", \"Default\", \"Default\", \"Default\", \"Topic1\", \"Topic1\", \"Topic1\", \"Topic1\", \"Topic1\", \"Topic1\", \"Topic1\", \"Topic1\", \"Topic1\", \"Topic1\", \"Topic1\", \"Topic1\", \"Topic1\", \"Topic1\", \"Topic1\", \"Topic1\", \"Topic1\", \"Topic1\", \"Topic1\", \"Topic1\", \"Topic1\", \"Topic1\", \"Topic1\", \"Topic1\", \"Topic1\", \"Topic1\", \"Topic1\", \"Topic1\", \"Topic1\", \"Topic1\", \"Topic1\", \"Topic1\", \"Topic1\", \"Topic1\", \"Topic1\", \"Topic1\", \"Topic1\", \"Topic1\", \"Topic1\", \"Topic1\", \"Topic1\", \"Topic1\", \"Topic1\", \"Topic1\", \"Topic1\", \"Topic1\", \"Topic1\", \"Topic1\", \"Topic1\", \"Topic1\", \"Topic1\", \"Topic1\", \"Topic1\", \"Topic1\", \"Topic1\", \"Topic2\", \"Topic2\", \"Topic2\", \"Topic2\", \"Topic2\", \"Topic2\", \"Topic2\", \"Topic2\", \"Topic2\", \"Topic2\", \"Topic2\", \"Topic2\", \"Topic2\", \"Topic2\", \"Topic2\", \"Topic2\", \"Topic2\", \"Topic2\", \"Topic2\", \"Topic2\", \"Topic2\", \"Topic2\", \"Topic2\", \"Topic2\", \"Topic2\", \"Topic2\", \"Topic2\", \"Topic2\", \"Topic2\", \"Topic2\", \"Topic2\", \"Topic2\", \"Topic2\", \"Topic2\", \"Topic2\", \"Topic2\", \"Topic2\", \"Topic2\", \"Topic2\", \"Topic2\", \"Topic2\", \"Topic2\", \"Topic2\", \"Topic2\", \"Topic2\", \"Topic2\", \"Topic3\", \"Topic3\", \"Topic3\", \"Topic3\", \"Topic3\", \"Topic3\", \"Topic3\", \"Topic3\", \"Topic3\", \"Topic3\", \"Topic3\", \"Topic3\", \"Topic3\", \"Topic3\", \"Topic3\", \"Topic3\", \"Topic3\", \"Topic3\", \"Topic3\", \"Topic3\", \"Topic3\", \"Topic3\", \"Topic3\", \"Topic3\", \"Topic3\", \"Topic3\", \"Topic3\", \"Topic3\", \"Topic3\", \"Topic3\", \"Topic3\", \"Topic3\", \"Topic3\", \"Topic3\", \"Topic3\", \"Topic3\", \"Topic3\", \"Topic3\", \"Topic3\", \"Topic3\", \"Topic3\", \"Topic3\", \"Topic3\", \"Topic3\", \"Topic3\", \"Topic3\", \"Topic4\", \"Topic4\", \"Topic4\", \"Topic4\", \"Topic4\", \"Topic4\", \"Topic4\", \"Topic4\", \"Topic4\", \"Topic4\", \"Topic4\", \"Topic4\", \"Topic4\", \"Topic4\", \"Topic4\", \"Topic4\", \"Topic4\", \"Topic4\", \"Topic4\", \"Topic4\", \"Topic4\", \"Topic4\", \"Topic4\", \"Topic4\", \"Topic4\", \"Topic4\", \"Topic4\", \"Topic4\", \"Topic4\", \"Topic4\", \"Topic4\", \"Topic4\", \"Topic4\", \"Topic4\", \"Topic4\", \"Topic4\", \"Topic4\", \"Topic4\", \"Topic4\", \"Topic4\", \"Topic4\", \"Topic4\", \"Topic4\", \"Topic4\", \"Topic4\", \"Topic4\", \"Topic4\", \"Topic4\", \"Topic5\", \"Topic5\", \"Topic5\", \"Topic5\", \"Topic5\", \"Topic5\", \"Topic5\", \"Topic5\", \"Topic5\", \"Topic5\", \"Topic5\", \"Topic5\", \"Topic5\", \"Topic5\", \"Topic5\", \"Topic5\", \"Topic5\", \"Topic5\", \"Topic5\", \"Topic5\", \"Topic5\", \"Topic5\", \"Topic5\", \"Topic5\", \"Topic5\", \"Topic5\", \"Topic5\", \"Topic5\", \"Topic5\", \"Topic5\", \"Topic5\", \"Topic5\", \"Topic5\", \"Topic5\", \"Topic5\", \"Topic5\", \"Topic5\", \"Topic5\", \"Topic5\", \"Topic6\", \"Topic6\", \"Topic6\", \"Topic6\", \"Topic6\", \"Topic6\", \"Topic6\", \"Topic6\", \"Topic6\", \"Topic6\", \"Topic6\", \"Topic6\", \"Topic6\", \"Topic6\", \"Topic6\", \"Topic6\", \"Topic6\", \"Topic6\", \"Topic6\", \"Topic6\", \"Topic6\", \"Topic6\", \"Topic6\", \"Topic6\", \"Topic6\", \"Topic6\", \"Topic6\", \"Topic6\", \"Topic6\", \"Topic6\", \"Topic7\", \"Topic7\", \"Topic7\", \"Topic7\", \"Topic7\", \"Topic7\", \"Topic7\", \"Topic7\", \"Topic7\", \"Topic7\", \"Topic7\", \"Topic7\", \"Topic7\", \"Topic7\", \"Topic7\", \"Topic7\", \"Topic7\", \"Topic7\", \"Topic7\", \"Topic7\", \"Topic7\", \"Topic7\", \"Topic7\", \"Topic7\", \"Topic7\", \"Topic7\", \"Topic7\", \"Topic7\", \"Topic7\", \"Topic7\", \"Topic8\", \"Topic8\", \"Topic8\", \"Topic8\", \"Topic8\", \"Topic8\", \"Topic8\", \"Topic8\", \"Topic8\", \"Topic8\", \"Topic8\", \"Topic8\", \"Topic8\", \"Topic8\", \"Topic8\", \"Topic8\", \"Topic8\", \"Topic8\", \"Topic8\", \"Topic8\", \"Topic8\", \"Topic8\", \"Topic8\", \"Topic8\", \"Topic8\", \"Topic8\", \"Topic8\", \"Topic8\", \"Topic8\", \"Topic8\", \"Topic9\", \"Topic9\", \"Topic9\", \"Topic9\", \"Topic9\", \"Topic9\", \"Topic9\", \"Topic9\", \"Topic9\", \"Topic9\", \"Topic9\", \"Topic9\", \"Topic9\", \"Topic9\", \"Topic9\", \"Topic9\", \"Topic9\", \"Topic9\", \"Topic9\", \"Topic9\", \"Topic9\", \"Topic9\", \"Topic9\", \"Topic9\", \"Topic9\", \"Topic9\", \"Topic9\", \"Topic9\", \"Topic9\", \"Topic9\", \"Topic9\", \"Topic10\", \"Topic10\", \"Topic10\", \"Topic10\", \"Topic10\", \"Topic10\", \"Topic10\", \"Topic10\", \"Topic10\", \"Topic10\", \"Topic10\", \"Topic10\", \"Topic10\", \"Topic10\", \"Topic10\", \"Topic10\", \"Topic10\", \"Topic10\", \"Topic10\", \"Topic10\", \"Topic10\", \"Topic10\", \"Topic10\", \"Topic10\", \"Topic10\", \"Topic10\", \"Topic10\", \"Topic10\", \"Topic10\", \"Topic10\"], \"Freq\": [21122.0, 10807.0, 12173.0, 7647.0, 9845.0, 8496.0, 8320.0, 4368.0, 6385.0, 6082.0, 10507.0, 7221.0, 10630.0, 11058.0, 6732.0, 5374.0, 3268.0, 4287.0, 10010.0, 1713.0, 9863.0, 9229.0, 4291.0, 5838.0, 4221.0, 2484.0, 4396.0, 7110.0, 3910.0, 5070.0, 3018.38525390625, 2985.510498046875, 2858.661865234375, 2698.854248046875, 2605.966796875, 2459.317626953125, 2176.44091796875, 2025.6859130859375, 1762.5194091796875, 1696.1893310546875, 1644.7078857421875, 1547.9324951171875, 1504.5401611328125, 1471.453857421875, 1456.24169921875, 1452.800048828125, 1429.533447265625, 1406.299072265625, 1377.9140625, 1358.8050537109375, 1342.4700927734375, 1263.5731201171875, 1247.3450927734375, 1137.530029296875, 1122.7578125, 1114.001220703125, 1107.4215087890625, 1073.7464599609375, 1041.8248291015625, 1031.1461181640625, 3442.641357421875, 7113.9248046875, 3629.339599609375, 4978.33349609375, 3307.85693359375, 4118.93505859375, 2068.612548828125, 3377.368408203125, 3096.855224609375, 9142.177734375, 3539.903076171875, 1788.3682861328125, 2269.5458984375, 8500.3603515625, 3542.160888671875, 7351.9091796875, 6584.8466796875, 1936.6773681640625, 5907.7890625, 2493.88427734375, 3948.763671875, 4967.14111328125, 4386.68994140625, 3049.10400390625, 2424.64111328125, 9845.10546875, 8319.9765625, 3924.573974609375, 3903.345703125, 3671.74267578125, 3355.6083984375, 3329.961669921875, 3278.8056640625, 3076.30224609375, 2267.864013671875, 2178.681884765625, 2059.21240234375, 1917.8016357421875, 1886.2783203125, 1748.7958984375, 1727.0079345703125, 1582.7442626953125, 1570.2926025390625, 1469.481689453125, 1466.2674560546875, 1301.05615234375, 1295.1732177734375, 1259.685302734375, 1226.072998046875, 1218.775634765625, 1171.3328857421875, 1165.576904296875, 1148.39501953125, 1147.8695068359375, 1127.768798828125, 11863.4482421875, 19102.171875, 2849.31396484375, 3136.42333984375, 2051.11083984375, 1994.4942626953125, 2000.424560546875, 5191.1025390625, 2418.521240234375, 1575.4293212890625, 2219.124267578125, 2639.803466796875, 2655.189208984375, 1921.2972412109375, 2015.0263671875, 2466.925048828125, 10806.8916015625, 8495.2578125, 6384.5078125, 6081.26171875, 5373.2099609375, 4290.90576171875, 4220.60546875, 3909.307373046875, 3702.443603515625, 3555.28564453125, 2895.739501953125, 2865.49951171875, 2641.88916015625, 2637.56201171875, 2462.169677734375, 2376.40478515625, 2319.623779296875, 2212.912109375, 1972.3873291015625, 1933.717529296875, 1836.4921875, 1812.38134765625, 1715.36474609375, 1707.5380859375, 1703.1116943359375, 1622.0338134765625, 1609.796875, 1534.6265869140625, 1502.405517578125, 1553.2952880859375, 2252.868408203125, 5986.6826171875, 2557.816162109375, 4843.1533203125, 1801.543701171875, 4165.77392578125, 4450.04052734375, 5149.60498046875, 2463.953125, 3017.1533203125, 2760.665771484375, 2169.41015625, 2643.498779296875, 2334.61669921875, 2658.265869140625, 2308.962158203125, 4286.20361328125, 2863.27392578125, 1978.8642578125, 1811.1920166015625, 1454.1207275390625, 1400.21484375, 1346.1229248046875, 1274.84130859375, 1205.613525390625, 1136.4468994140625, 1106.133056640625, 1086.614990234375, 1086.23486328125, 1052.3756103515625, 982.3818359375, 982.488037109375, 946.0331420898438, 943.0970458984375, 933.478515625, 889.7128295898438, 860.4180297851562, 855.9041137695312, 844.367919921875, 826.4338989257812, 811.3601684570312, 788.77197265625, 760.2879638671875, 747.0005493164062, 736.8455200195312, 715.5448608398438, 1157.0567626953125, 2260.882080078125, 1449.5240478515625, 1459.94384765625, 2484.928955078125, 3576.1318359375, 2194.292724609375, 1178.535888671875, 2165.1806640625, 1317.5946044921875, 4514.7958984375, 2010.0831298828125, 2404.76806640625, 1248.95703125, 1240.9373779296875, 1166.3135986328125, 1143.712158203125, 1121.30419921875, 4367.60498046875, 3267.446533203125, 2483.480712890625, 2373.16455078125, 2013.537841796875, 1932.5596923828125, 1922.220703125, 1827.7830810546875, 1367.40673828125, 1294.9105224609375, 1198.1265869140625, 1184.253173828125, 1122.4111328125, 984.4873657226562, 861.0847778320312, 848.9110717773438, 843.822021484375, 796.0222778320312, 750.9843139648438, 730.7732543945312, 672.9874877929688, 630.6016845703125, 626.6668090820312, 582.0029907226562, 575.6036987304688, 569.4713745117188, 568.9728393554688, 547.7216186523438, 492.17535400390625, 482.35369873046875, 1043.4027099609375, 961.4044189453125, 1433.19921875, 837.2544555664062, 4485.10400390625, 841.8904418945312, 1268.9486083984375, 1456.261474609375, 643.6484985351562, 1435.757568359375, 877.2212524414062, 813.6251220703125, 688.9749755859375, 639.9638671875, 557.8125610351562, 541.7545776367188, 530.3333740234375, 503.8722839355469, 474.31170654296875, 421.43621826171875, 357.55291748046875, 307.0459899902344, 304.9213562011719, 304.6064453125, 301.7821044921875, 285.42669677734375, 270.3240661621094, 253.91867065429688, 238.7619171142578, 231.24449157714844, 224.6914520263672, 223.5959930419922, 221.6459503173828, 221.38595581054688, 217.0329132080078, 216.11410522460938, 215.27291870117188, 202.35943603515625, 201.1538848876953, 1208.378662109375, 506.70458984375, 452.5083923339844, 385.30035400390625, 305.4330749511719, 299.6473388671875, 295.3048400878906, 284.46075439453125, 280.0530090332031, 274.8161926269531, 259.85028076171875, 254.0623016357422, 238.82293701171875, 233.9971923828125, 226.2648162841797, 192.15252685546875, 181.13427734375, 173.1857147216797, 168.52218627929688, 168.11839294433594, 164.90419006347656, 162.22531127929688, 157.35296630859375, 154.8909912109375, 153.12347412109375, 150.580078125, 146.89935302734375, 139.03330993652344, 137.94204711914062, 132.0435791015625, 1712.6988525390625, 752.1329345703125, 639.6497192382812, 480.55828857421875, 424.7300109863281, 369.7604675292969, 351.77435302734375, 343.96319580078125, 341.3746337890625, 293.52313232421875, 286.39251708984375, 224.5398712158203, 223.0401611328125, 199.06756591796875, 172.9138641357422, 159.96810913085938, 149.63699340820312, 144.06619262695312, 142.34307861328125, 141.13002014160156, 135.53981018066406, 128.14889526367188, 126.72440338134766, 121.09402465820312, 118.07862091064453, 107.7643051147461, 107.52603912353516, 100.08809661865234, 98.71577453613281, 96.82508850097656, 802.3082275390625, 761.7006225585938, 545.905029296875, 464.3578186035156, 431.01690673828125, 365.33758544921875, 315.8465881347656, 301.801025390625, 290.05047607421875, 253.73643493652344, 206.07272338867188, 195.9975128173828, 192.96926879882812, 178.11415100097656, 164.2612762451172, 162.48143005371094, 158.55740356445312, 148.7277374267578, 144.1987762451172, 140.43505859375, 132.52232360839844, 129.40383911132812, 127.0819091796875, 120.39051055908203, 118.9852294921875, 115.42538452148438, 111.09095764160156, 110.77789306640625, 110.41226959228516, 108.0893783569336, 194.17225646972656, 548.29638671875, 406.6932067871094, 375.4604797363281, 355.38232421875, 303.3813171386719, 288.58294677734375, 240.0834197998047, 231.95623779296875, 210.47964477539062, 196.8549346923828, 194.28172302246094, 131.84169006347656, 129.72024536132812, 126.1332015991211, 125.39728546142578, 123.2593994140625, 119.47710418701172, 119.01840209960938, 117.57581329345703, 117.43260955810547, 114.51879119873047, 114.09712982177734, 113.7284164428711, 113.10489654541016, 112.74668884277344, 111.20299530029297, 110.15473937988281, 107.42042541503906, 107.27830505371094, 106.60377502441406], \"Term\": [\"food\", \"us\", \"place\", \"ordered\", \"like\", \"minutes\", \"good\", \"chicken\", \"came\", \"asked\", \"time\", \"go\", \"order\", \"back\", \"said\", \"table\", \"pizza\", \"bar\", \"service\", \"sandwich\", \"one\", \"get\", \"took\", \"told\", \"server\", \"sauce\", \"people\", \"got\", \"waitress\", \"dont\", \"customer\", \"location\", \"times\", \"rude\", \"called\", \"last\", \"customers\", \"business\", \"lunch\", \"Food\", \"always\", \"work\", \"family\", \"call\", \"used\", \"years\", \"care\", \"line\", \"phone\", \"need\", \"employees\", \"management\", \"drive\", \"today\", \"owner\", \"Ill\", \"every\", \"close\", \"free\", \"problem\", \"give\", \"go\", \"know\", \"dont\", \"make\", \"going\", \"wrong\", \"Ive\", \"want\", \"time\", \"Im\", \"cant\", \"money\", \"order\", \"ever\", \"service\", \"get\", \"since\", \"back\", \"made\", \"never\", \"would\", \"one\", \"even\", \"manager\", \"like\", \"good\", \"bad\", \"really\", \"eat\", \"better\", \"much\", \"great\", \"menu\", \"try\", \"nice\", \"disappointed\", \"thing\", \"steak\", \"little\", \"quality\", \"side\", \"pretty\", \"best\", \"awful\", \"reviews\", \"recommend\", \"shrimp\", \"eating\", \"everything\", \"worth\", \"special\", \"price\", \"restaurants\", \"ok\", \"place\", \"food\", \"also\", \"meal\", \"terrible\", \"think\", \"nothing\", \"restaurant\", \"well\", \"husband\", \"wasnt\", \"got\", \"even\", \"say\", \"experience\", \"would\", \"us\", \"minutes\", \"came\", \"asked\", \"table\", \"took\", \"server\", \"waitress\", \"wait\", \"another\", \"drinks\", \"drink\", \"waiting\", \"10\", \"waited\", \"hour\", \"20\", \"seated\", \"15\", \"check\", \"busy\", \"later\", \"finally\", \"brought\", \"arrived\", \"party\", \"horrible\", \"bill\", \"waiter\", \"hostess\", \"ask\", \"said\", \"wanted\", \"told\", \"sat\", \"didnt\", \"got\", \"back\", \"2\", \"ordered\", \"never\", \"left\", \"get\", \"went\", \"service\", \"manager\", \"bar\", \"around\", \"walked\", \"area\", \"open\", \"old\", \"friends\", \"bartender\", \"front\", \"beer\", \"door\", \"maybe\", \"behind\", \"establishment\", \"room\", \"servers\", \"breakfast\", \"sit\", \"entire\", \"literally\", \"disgusting\", \"counter\", \"noticed\", \"chips\", \"game\", \"kids\", \"needs\", \"mins\", \"stopped\", \"outside\", \"dining\", \"see\", \"coffee\", \"dirty\", \"away\", \"people\", \"night\", \"star\", \"staff\", \"4\", \"one\", \"two\", \"could\", \"sitting\", \"tables\", \"someone\", \"1\", \"next\", \"chicken\", \"pizza\", \"sauce\", \"cheese\", \"burger\", \"cooked\", \"tasted\", \"fries\", \"meat\", \"flavor\", \"bland\", \"bread\", \"dry\", \"fish\", \"beef\", \"burgers\", \"Ordered\", \"worse\", \"piece\", \"absolutely\", \"bacon\", \"pieces\", \"raw\", \"bite\", \"potatoes\", \"sweet\", \"soggy\", \"undercooked\", \"overcooked\", \"green\", \"soup\", \"fried\", \"taste\", \"dish\", \"ordered\", \"fresh\", \"salad\", \"cold\", \"medium\", \"rice\", \"places\", \"walk\", \"believe\", \"Chinese\", \"crab\", \"street\", \"egg\", \"greasy\", \"roll\", \"tough\", \"Mexican\", \"onions\", \"tasty\", \"avoid\", \"figured\", \"possible\", \"closing\", \"excellent\", \"expecting\", \"peppers\", \"decor\", \"city\", \"fan\", \"14\", \"Browns\", \"basic\", \"milk\", \"Would\", \"impression\", \"wings\", \"son\", \"hair\", \"weird\", \"shame\", \"messed\", \"Waited\", \"cool\", \"35\", \"fun\", \"ran\", \"18\", \"Tried\", \"using\", \"surprise\", \"taco\", \"awhile\", \"wing\", \"stick\", \"female\", \"Avoid\", \"fake\", \"allowed\", \"costs\", \"tender\", \"alcohol\", \"Sad\", \"Way\", \"guac\", \"chipotle\", \"sandwich\", \"burrito\", \"bowl\", \"forever\", \"beans\", \"hotel\", \"chain\", \"Chipotle\", \"sucks\", \"tacos\", \"grilled\", \"Wendys\", \"gloves\", \"New\", \"written\", \"chocolate\", \"spoon\", \"health\", \"moving\", \"concept\", \"tortilla\", \"margaritas\", \"2nd\", \"lacked\", \"attentive\", \"provided\", \"originally\", \"alright\", \"queso\", \"feed\", \"card\", \"Service\", \"pork\", \"credit\", \"rolls\", \"ribs\", \"boyfriend\", \"smell\", \"cards\", \"enjoyed\", \"cooking\", \"pho\", \"spring\", \"shell\", \"included\", \"beverage\", \"brisket\", \"state\", \"Applebees\", \"smoke\", \"tofu\", \"absolute\", \"security\", \"Total\", \"replace\", \"broth\", \"allow\", \"smoked\", \"ONE\", \"Pho\", \"pulled\", \"online\", \"McDonalds\", \"chef\", \"dollars\", \"games\", \"excuse\", \"website\", \"Absolutely\", \"Burger\", \"deliver\", \"hello\", \"terribly\", \"vegan\", \"private\", \"utensils\", \"930\", \"1st\", \"lived\", \"cheddar\", \"held\", \"train\", \"Asian\", \"previously\", \"soda\", \"King\", \"fat\", \"comped\", \"Stay\", \"Okay\", \"specifically\"], \"Total\": [21122.0, 10807.0, 12173.0, 7647.0, 9845.0, 8496.0, 8320.0, 4368.0, 6385.0, 6082.0, 10507.0, 7221.0, 10630.0, 11058.0, 6732.0, 5374.0, 3268.0, 4287.0, 10010.0, 1713.0, 9863.0, 9229.0, 4291.0, 5838.0, 4221.0, 2484.0, 4396.0, 7110.0, 3910.0, 5070.0, 3019.263916015625, 2986.38916015625, 2859.54052734375, 2699.73291015625, 2606.845458984375, 2460.1962890625, 2177.319580078125, 2026.564453125, 1763.3980712890625, 1697.0679931640625, 1645.58642578125, 1548.81103515625, 1505.4188232421875, 1472.3323974609375, 1457.1202392578125, 1453.6785888671875, 1430.412109375, 1407.1776123046875, 1378.792724609375, 1359.6837158203125, 1343.3486328125, 1264.45166015625, 1248.2236328125, 1138.40869140625, 1123.6363525390625, 1114.8798828125, 1108.300048828125, 1074.6251220703125, 1042.7034912109375, 1032.0247802734375, 3453.6220703125, 7221.34033203125, 3665.46337890625, 5070.68115234375, 3364.762939453125, 4239.86376953125, 2114.9033203125, 3526.19921875, 3224.980712890625, 10507.953125, 3881.586669921875, 1834.2254638671875, 2383.763427734375, 10630.1787109375, 4149.04833984375, 10010.9482421875, 9229.119140625, 2078.447021484375, 11058.1669921875, 3182.403076171875, 6710.20263671875, 9926.5537109375, 9863.958984375, 7575.98388671875, 4734.37646484375, 9845.984375, 8320.85546875, 3925.45263671875, 3904.224365234375, 3672.621337890625, 3356.487060546875, 3330.84033203125, 3279.684326171875, 3077.180908203125, 2268.74267578125, 2179.560546875, 2060.091064453125, 1918.6802978515625, 1887.156982421875, 1749.674560546875, 1727.886474609375, 1583.622802734375, 1571.1712646484375, 1470.3602294921875, 1467.1461181640625, 1301.934814453125, 1296.0518798828125, 1260.5640869140625, 1226.9515380859375, 1219.654296875, 1172.21142578125, 1166.45556640625, 1149.2735595703125, 1148.748046875, 1128.6573486328125, 12173.2890625, 21122.1015625, 2942.5869140625, 3317.314697265625, 2139.65869140625, 2121.730712890625, 2143.401123046875, 6543.9345703125, 2804.259033203125, 1722.48046875, 2872.8271484375, 7110.0654296875, 7575.98388671875, 3515.1162109375, 4271.96533203125, 9926.5537109375, 10807.775390625, 8496.1416015625, 6385.39111328125, 6082.14501953125, 5374.09326171875, 4291.7890625, 4221.48876953125, 3910.19091796875, 3703.3271484375, 3556.169189453125, 2896.623046875, 2866.383056640625, 2642.772705078125, 2638.445556640625, 2463.05322265625, 2377.288330078125, 2320.50732421875, 2213.795654296875, 1973.270751953125, 1934.6009521484375, 1837.3756103515625, 1813.2647705078125, 1716.2481689453125, 1708.4215087890625, 1703.9951171875, 1622.91796875, 1610.6802978515625, 1535.510009765625, 1503.2889404296875, 1554.24365234375, 2276.436767578125, 6732.44482421875, 2692.14111328125, 5838.2333984375, 1842.000244140625, 6085.50927734375, 7110.0654296875, 11058.1669921875, 3390.300537109375, 7647.67333984375, 6710.20263671875, 3223.775634765625, 9229.119140625, 4810.44873046875, 10010.9482421875, 4734.37646484375, 4287.083984375, 2864.154296875, 1979.7447509765625, 1812.072509765625, 1455.001220703125, 1401.0953369140625, 1347.00341796875, 1275.7218017578125, 1206.4940185546875, 1137.327392578125, 1107.0135498046875, 1087.4954833984375, 1087.1153564453125, 1053.256103515625, 983.2623291015625, 983.3685913085938, 946.9136352539062, 943.9775390625, 934.359130859375, 890.5933837890625, 861.2986450195312, 856.7846069335938, 845.24853515625, 827.3145141601562, 812.24072265625, 789.6525268554688, 761.1685180664062, 747.881103515625, 737.7260131835938, 716.4253540039062, 1159.26806640625, 2289.463623046875, 1475.058837890625, 1495.8604736328125, 2604.7626953125, 4396.58837890625, 2701.74951171875, 1318.3465576171875, 3265.616943359375, 1589.880126953125, 9863.958984375, 3435.518798828125, 5813.41259765625, 1661.957275390625, 2025.703125, 1728.39794921875, 1627.328125, 1734.41943359375, 4368.48828125, 3268.329833984375, 2484.364013671875, 2374.0478515625, 2014.4210205078125, 1933.44287109375, 1923.1038818359375, 1828.666259765625, 1368.2899169921875, 1295.793701171875, 1199.009765625, 1185.1363525390625, 1123.2943115234375, 985.3706665039062, 861.9680786132812, 849.79443359375, 844.705322265625, 796.9055786132812, 751.8676147460938, 731.65673828125, 673.8707275390625, 631.4850463867188, 627.550048828125, 582.8862915039062, 576.4869384765625, 570.3546752929688, 569.8560791015625, 548.6048583984375, 493.05865478515625, 483.23699951171875, 1046.6915283203125, 1027.4998779296875, 1596.9759521484375, 902.3035278320312, 7647.67333984375, 967.7032470703125, 2163.142578125, 2913.001220703125, 779.161376953125, 1436.641357421875, 878.1051025390625, 814.5089721679688, 689.8588256835938, 640.84765625, 558.6963500976562, 542.6384887695312, 531.2171630859375, 504.7560729980469, 475.19549560546875, 422.3200988769531, 358.4366760253906, 307.92974853515625, 305.80523681640625, 305.4903259277344, 302.666015625, 286.31060791015625, 271.2078857421875, 254.802490234375, 239.64573669433594, 232.12828063964844, 225.5753173828125, 224.47979736328125, 222.52978515625, 222.26979064941406, 217.91690063476562, 216.99801635742188, 216.15682983398438, 203.2432403564453, 202.037841796875, 1209.2757568359375, 507.601806640625, 453.4055480957031, 386.1976013183594, 306.3302917480469, 300.5445861816406, 296.2019958496094, 285.3580017089844, 280.9502868652344, 275.7134704589844, 260.7475280761719, 254.95962524414062, 239.72021484375, 234.89447021484375, 227.16224670410156, 193.04966735839844, 182.03150939941406, 174.08285522460938, 169.4195098876953, 169.015625, 165.80136108398438, 163.12258911132812, 158.2501983642578, 155.78823852539062, 154.02069091796875, 151.477294921875, 147.7965850830078, 139.9306182861328, 138.8394317626953, 132.940673828125, 1713.6015625, 753.03564453125, 640.5524291992188, 481.4610595703125, 425.6327819824219, 370.6632385253906, 352.67706298828125, 344.8658447265625, 342.27740478515625, 294.4258117675781, 287.2952575683594, 225.44253540039062, 223.94290161132812, 199.97035217285156, 173.8167724609375, 160.87083435058594, 150.53988647460938, 144.96893310546875, 143.2458953857422, 142.03282165527344, 136.44256591796875, 129.05166625976562, 127.62715148925781, 121.99677276611328, 118.98139953613281, 108.66719818115234, 108.4289779663086, 100.99100494384766, 99.61854553222656, 97.72786712646484, 803.2182006835938, 762.6106567382812, 546.8150024414062, 465.2678527832031, 431.927001953125, 366.24755859375, 316.7566223144531, 302.71112060546875, 290.9605407714844, 254.6466064453125, 206.98297119140625, 196.90748596191406, 193.87937927246094, 179.02435302734375, 165.1715087890625, 163.3916473388672, 159.4673614501953, 149.63790893554688, 145.10897827148438, 141.34512329101562, 133.43238830566406, 130.31399536132812, 127.99202728271484, 121.30066680908203, 119.89540100097656, 116.33540344238281, 112.00125122070312, 111.68804168701172, 111.3223876953125, 108.99945068359375, 400.8646240234375, 549.1978149414062, 407.59466552734375, 376.3619689941406, 356.2838134765625, 304.2828674316406, 289.48443603515625, 240.98484802246094, 232.85768127441406, 211.381103515625, 197.75633239746094, 195.18338012695312, 132.74322509765625, 130.62171936035156, 127.0346450805664, 126.29883575439453, 124.16100311279297, 120.37872314453125, 119.91999816894531, 118.47764587402344, 118.33414459228516, 115.42047119140625, 114.99852752685547, 114.63001251220703, 114.0063247680664, 113.6480941772461, 112.10456848144531, 111.0562744140625, 108.32184600830078, 108.17992401123047, 107.50525665283203], \"loglift\": [30.0, 29.0, 28.0, 27.0, 26.0, 25.0, 24.0, 23.0, 22.0, 21.0, 20.0, 19.0, 18.0, 17.0, 16.0, 15.0, 14.0, 13.0, 12.0, 11.0, 10.0, 9.0, 8.0, 7.0, 6.0, 5.0, 4.0, 3.0, 2.0, 1.0, 1.3284000158309937, 1.3284000158309937, 1.3282999992370605, 1.3282999992370605, 1.3282999992370605, 1.3282999992370605, 1.3281999826431274, 1.3281999826431274, 1.3281999826431274, 1.3280999660491943, 1.3280999660491943, 1.3280999660491943, 1.3280999660491943, 1.3280999660491943, 1.3280999660491943, 1.3279999494552612, 1.3279999494552612, 1.3279999494552612, 1.3279999494552612, 1.3279999494552612, 1.3279999494552612, 1.3279999494552612, 1.3279000520706177, 1.3279000520706177, 1.3279000520706177, 1.3279000520706177, 1.3279000520706177, 1.3278000354766846, 1.3278000354766846, 1.3278000354766846, 1.3255000114440918, 1.3136999607086182, 1.3186999559402466, 1.3102999925613403, 1.3115999698638916, 1.2997000217437744, 1.30649995803833, 1.2855000495910645, 1.288100004196167, 1.1893999576568604, 1.2365000247955322, 1.3033000230789185, 1.2796000242233276, 1.1051000356674194, 1.1705000400543213, 1.0198999643325806, 0.991100013256073, 1.2580000162124634, 0.7017999887466431, 1.0849000215530396, 0.7983999848365784, 0.6363000273704529, 0.5182999968528748, 0.41850000619888306, 0.659500002861023, 1.4098999500274658, 1.4098999500274658, 1.4098000526428223, 1.4098000526428223, 1.4097000360488892, 1.4097000360488892, 1.4097000360488892, 1.4097000360488892, 1.4097000360488892, 1.409600019454956, 1.409600019454956, 1.409600019454956, 1.409500002861023, 1.409500002861023, 1.409500002861023, 1.409500002861023, 1.4093999862670898, 1.4093999862670898, 1.4093999862670898, 1.4093999862670898, 1.4092999696731567, 1.4092999696731567, 1.4092999696731567, 1.4092999696731567, 1.4092999696731567, 1.4091999530792236, 1.4091999530792236, 1.4091999530792236, 1.4091999530792236, 1.4091999530792236, 1.3841999769210815, 1.309499979019165, 1.3777999877929688, 1.3538999557495117, 1.3676999807357788, 1.348099946975708, 1.34089994430542, 1.1784000396728516, 1.2619999647140503, 1.3207000494003296, 1.1518000364303589, 0.41920000314712524, 0.36149999499320984, 0.805899977684021, 0.6585000157356262, 0.01769999973475933, 1.610700011253357, 1.610700011253357, 1.6105999946594238, 1.6105999946594238, 1.6105999946594238, 1.6105999946594238, 1.6105999946594238, 1.6105999946594238, 1.6104999780654907, 1.6104999780654907, 1.6104999780654907, 1.6104999780654907, 1.6103999614715576, 1.6103999614715576, 1.6103999614715576, 1.6103999614715576, 1.6103999614715576, 1.6103999614715576, 1.6102999448776245, 1.6102999448776245, 1.6102999448776245, 1.6102999448776245, 1.6102999448776245, 1.6102999448776245, 1.6102999448776245, 1.610200047492981, 1.610200047492981, 1.610200047492981, 1.610200047492981, 1.610200047492981, 1.6003999710083008, 1.493399977684021, 1.5595999956130981, 1.4239000082015991, 1.5886000394821167, 1.2317999601364136, 1.142199993133545, 0.8464999794960022, 1.291599988937378, 0.6807000041007996, 0.722599983215332, 1.2146999835968018, 0.3605000078678131, 0.8877999782562256, 0.2847999930381775, 0.8927000164985657, 1.8896000385284424, 1.8895000219345093, 1.8894000053405762, 1.8894000053405762, 1.88919997215271, 1.88919997215271, 1.88919997215271, 1.88919997215271, 1.8890999555587769, 1.8890999555587769, 1.8890000581741333, 1.8890000581741333, 1.8890000581741333, 1.8890000581741333, 1.8889000415802002, 1.8889000415802002, 1.8889000415802002, 1.8889000415802002, 1.8889000415802002, 1.8889000415802002, 1.888800024986267, 1.888800024986267, 1.888800024986267, 1.888800024986267, 1.888800024986267, 1.888700008392334, 1.888700008392334, 1.888700008392334, 1.8885999917984009, 1.8885999917984009, 1.8878999948501587, 1.8773000240325928, 1.8724000453948975, 1.8654999732971191, 1.8427000045776367, 1.6833000183105469, 1.6818000078201294, 1.7776999473571777, 1.4788999557495117, 1.7020000219345093, 1.108299970626831, 1.3538999557495117, 1.007099986076355, 1.604200005531311, 1.3997999429702759, 1.496500015258789, 1.5371999740600586, 1.4536999464035034, 2.6034998893737793, 2.6033999919891357, 2.603300094604492, 2.603300094604492, 2.6031999588012695, 2.6031999588012695, 2.6031999588012695, 2.6031999588012695, 2.6029999256134033, 2.6029999256134033, 2.6029000282287598, 2.6029000282287598, 2.6029000282287598, 2.602799892425537, 2.60260009765625, 2.60260009765625, 2.60260009765625, 2.60260009765625, 2.6024999618530273, 2.6024999618530273, 2.602299928665161, 2.602299928665161, 2.602299928665161, 2.602099895477295, 2.602099895477295, 2.602099895477295, 2.602099895477295, 2.6019999980926514, 2.601900100708008, 2.601799964904785, 2.6005001068115234, 2.5371999740600586, 2.495500087738037, 2.5288000106811523, 2.069999933242798, 2.464400053024292, 2.0703001022338867, 1.9103000164031982, 2.412600040435791, 3.793299913406372, 3.7929000854492188, 3.7929000854492188, 3.7927000522613525, 3.79259991645813, 3.7923998832702637, 3.79229998588562, 3.79229998588562, 3.7922000885009766, 3.792099952697754, 3.791800022125244, 3.7915000915527344, 3.791100025177002, 3.7909998893737793, 3.7909998893737793, 3.7909998893737793, 3.7908999919891357, 3.7906999588012695, 3.7904999256134033, 3.7901999950408936, 3.79010009765625, 3.7899999618530273, 3.7899999618530273, 3.7899999618530273, 3.7899999618530273, 3.789900064468384, 3.789900064468384, 3.789799928665161, 3.789599895477295, 3.789599895477295, 4.386199951171875, 4.385200023651123, 4.385000228881836, 4.3846001625061035, 4.383999824523926, 4.383999824523926, 4.383900165557861, 4.383800029754639, 4.383800029754639, 4.383699893951416, 4.383500099182129, 4.383399963378906, 4.383200168609619, 4.3831000328063965, 4.382999897003174, 4.382299900054932, 4.381999969482422, 4.381800174713135, 4.381700038909912, 4.3815999031066895, 4.381499767303467, 4.381499767303467, 4.38129997253418, 4.381199836730957, 4.381100177764893, 4.38100004196167, 4.380899906158447, 4.380499839782715, 4.380499839782715, 4.380199909210205, 4.4532999992370605, 4.452600002288818, 4.452400207519531, 4.452000141143799, 4.451700210571289, 4.451399803161621, 4.451300144195557, 4.451200008392334, 4.451200008392334, 4.450799942016602, 4.450699806213379, 4.44980001449585, 4.44980001449585, 4.4492998123168945, 4.448599815368652, 4.448200225830078, 4.447800159454346, 4.4475998878479, 4.447500228881836, 4.447500228881836, 4.447199821472168, 4.446800231933594, 4.446700096130371, 4.446400165557861, 4.446199893951416, 4.445499897003174, 4.445499897003174, 4.444900035858154, 4.444699764251709, 4.4446001052856445, 4.552199840545654, 4.552199840545654, 4.551700115203857, 4.551400184631348, 4.551300048828125, 4.550899982452393, 4.55049991607666, 4.5503997802734375, 4.55019998550415, 4.549799919128418, 4.548999786376953, 4.548699855804443, 4.548699855804443, 4.548299789428711, 4.547800064086914, 4.547800064086914, 4.547599792480469, 4.547299861907959, 4.547100067138672, 4.546899795532227, 4.546500205993652, 4.54640007019043, 4.546199798583984, 4.54580020904541, 4.5457000732421875, 4.545499801635742, 4.545199871063232, 4.545199871063232, 4.545199871063232, 4.545000076293945, 3.8285000324249268, 4.700399875640869, 4.69980001449585, 4.6996002197265625, 4.69950008392334, 4.698999881744385, 4.69890022277832, 4.698299884796143, 4.6981000900268555, 4.697700023651123, 4.697400093078613, 4.697400093078613, 4.695199966430664, 4.695099830627441, 4.694900035858154, 4.694799900054932, 4.694699764251709, 4.694499969482422, 4.694499969482422, 4.694399833679199, 4.694399833679199, 4.694200038909912, 4.6940999031066895, 4.6940999031066895, 4.6940999031066895, 4.693999767303467, 4.693900108337402, 4.693900108337402, 4.693699836730957, 4.693600177764893, 4.693600177764893], \"logprob\": [30.0, 29.0, 28.0, 27.0, 26.0, 25.0, 24.0, 23.0, 22.0, 21.0, 20.0, 19.0, 18.0, 17.0, 16.0, 15.0, 14.0, 13.0, 12.0, 11.0, 10.0, 9.0, 8.0, 7.0, 6.0, 5.0, 4.0, 3.0, 2.0, 1.0, -4.846799850463867, -4.857800006866455, -4.901199817657471, -4.958700180053711, -4.993800163269043, -5.051700115203857, -5.173900127410889, -5.24560022354126, -5.384799957275391, -5.4232001304626465, -5.453999996185303, -5.514599800109863, -5.543099880218506, -5.565299987792969, -5.575699806213379, -5.578100204467773, -5.594200134277344, -5.610599994659424, -5.63100004196167, -5.644999980926514, -5.6570000648498535, -5.717599868774414, -5.730500221252441, -5.822700023651123, -5.8358001708984375, -5.843599796295166, -5.8495001792907715, -5.88040018081665, -5.910600185394287, -5.920899868011475, -4.7153000831604, -3.989500045776367, -4.662499904632568, -4.346499919891357, -4.755300045013428, -4.535999774932861, -5.224699974060059, -4.734499931335449, -4.821199893951416, -3.7386999130249023, -4.6875, -5.370299816131592, -5.131999969482422, -3.8113999366760254, -4.686800003051758, -3.9565999507904053, -4.066800117492676, -5.290599822998047, -4.175300121307373, -5.037700176239014, -4.578199863433838, -4.348700046539307, -4.4730000495910645, -4.836699962615967, -5.065899848937988, -3.5833001136779785, -3.7516000270843506, -4.502999782562256, -4.508399963378906, -4.5696001052856445, -4.659599781036377, -4.667300224304199, -4.682799816131592, -4.746500015258789, -5.051400184631348, -5.0914998054504395, -5.147900104522705, -5.219099998474121, -5.235599994659424, -5.311299800872803, -5.323800086975098, -5.411099910736084, -5.419000148773193, -5.485300064086914, -5.487500190734863, -5.607100009918213, -5.611599922180176, -5.639400005340576, -5.666399955749512, -5.672399997711182, -5.712100028991699, -5.7170000076293945, -5.731900215148926, -5.7322998046875, -5.75, -3.3968000411987305, -2.9203999042510986, -4.823200225830078, -4.727200031280518, -5.151899814605713, -5.179800033569336, -5.1768999099731445, -4.223299980163574, -4.987100124359131, -5.4156999588012695, -5.0731000900268555, -4.899499893188477, -4.893700122833252, -5.217199802398682, -5.169600009918213, -4.967299938201904, -3.2892000675201416, -3.529900074005127, -3.8155999183654785, -3.8642001152038574, -3.98799991607666, -4.212900161743164, -4.229499816894531, -4.306099891662598, -4.360400199890137, -4.401000022888184, -4.606200218200684, -4.616700172424316, -4.69789981842041, -4.6996002197265625, -4.768400192260742, -4.803800106048584, -4.828000068664551, -4.875100135803223, -4.990200042724609, -5.010000228881836, -5.061600208282471, -5.07480001449585, -5.129799842834473, -5.134399890899658, -5.13700008392334, -5.185800075531006, -5.193299770355225, -5.241099834442139, -5.262400150299072, -5.229100227355957, -4.8572001457214355, -3.8798999786376953, -4.730299949645996, -4.091899871826172, -5.0808000564575195, -4.242499828338623, -4.176499843597412, -4.0304999351501465, -4.7677001953125, -4.565100193023682, -4.6539998054504395, -4.894999980926514, -4.697299957275391, -4.821599960327148, -4.691800117492676, -4.832600116729736, -3.934999942779541, -4.338399887084961, -4.707799911499023, -4.79640007019043, -5.015999794006348, -5.053699970245361, -5.093100070953369, -5.147500038146973, -5.203400135040283, -5.262499809265137, -5.2895002365112305, -5.307300090789795, -5.307600021362305, -5.339300155639648, -5.408100128173828, -5.4079999923706055, -5.445799827575684, -5.448999881744385, -5.459199905395508, -5.507199764251709, -5.5406999588012695, -5.546000003814697, -5.559500217437744, -5.580999851226807, -5.599400043487549, -5.627600193023682, -5.664400100708008, -5.68209981918335, -5.695700168609619, -5.725100040435791, -5.244500160217285, -4.5746002197265625, -5.019100189208984, -5.01200008392334, -4.480100154876709, -4.116099834442139, -4.604499816894531, -5.226099967956543, -4.6178998947143555, -5.11460018157959, -3.882999897003174, -4.692200183868408, -4.512899875640869, -5.168099880218506, -5.174499988555908, -5.236499786376953, -5.256100177764893, -5.275899887084961, -3.2023000717163086, -3.492500066757202, -3.766900062561035, -3.812299966812134, -3.9767000675201416, -4.0177001953125, -4.023099899291992, -4.073400020599365, -4.36359977722168, -4.418099880218506, -4.495800018310547, -4.507400035858154, -4.561100006103516, -4.692200183868408, -4.826099872589111, -4.840400218963623, -4.846399784088135, -4.904699802398682, -4.962900161743164, -4.990200042724609, -5.0725998878479, -5.137599945068359, -5.143899917602539, -5.217800140380859, -5.228899955749512, -5.23960018157959, -5.240499973297119, -5.278500080108643, -5.385499954223633, -5.405600070953369, -4.634099960327148, -4.71589994430542, -4.3165998458862305, -4.8541998863220215, -3.175800085067749, -4.848700046539307, -4.438399791717529, -4.3007001876831055, -5.117199897766113, -3.1245999336242676, -3.617300033569336, -3.692500114440918, -3.858799934387207, -3.9326000213623047, -4.070000171661377, -4.0991997718811035, -4.120500087738037, -4.1717000007629395, -4.2322001457214355, -4.350399971008301, -4.514699935913086, -4.666999816894531, -4.673999786376953, -4.675000190734863, -4.684299945831299, -4.739999771118164, -4.794400215148926, -4.85699987411499, -4.918600082397461, -4.950500011444092, -4.979300022125244, -4.9842000007629395, -4.9928998947143555, -4.994100093841553, -5.013999938964844, -5.018199920654297, -5.02209997177124, -5.084000110626221, -5.090000152587891, -2.7039999961853027, -3.5731000900268555, -3.686199903488159, -3.8469998836517334, -4.0792999267578125, -4.098400115966797, -4.11299991607666, -4.150400161743164, -4.165999889373779, -4.184899806976318, -4.240900039672852, -4.263400077819824, -4.325300216674805, -4.345699787139893, -4.379300117492676, -4.542699813842773, -4.601799964904785, -4.646599769592285, -4.673900127410889, -4.676300048828125, -4.6956000328063965, -4.711999893188477, -4.742499828338623, -4.758299827575684, -4.769700050354004, -4.786499977111816, -4.811200141906738, -4.866300106048584, -4.874199867248535, -4.917900085449219, -2.288300037384033, -3.1112000942230225, -3.273200035095215, -3.5592000484466553, -3.6826999187469482, -3.8213000297546387, -3.8710999488830566, -3.8935999870300293, -3.90120005607605, -4.052199840545654, -4.0767998695373535, -4.320099830627441, -4.3267998695373535, -4.440499782562256, -4.581299781799316, -4.659200191497803, -4.725900173187256, -4.763899803161621, -4.775899887084961, -4.7845001220703125, -4.824900150299072, -4.880899906158447, -4.892099857330322, -4.937600135803223, -4.962800025939941, -5.054200172424316, -5.056399822235107, -5.1280999183654785, -5.141900062561035, -5.161200046539307, -2.9470999240875244, -2.999000072479248, -3.332200050354004, -3.4939000606536865, -3.56850004196167, -3.733799934387207, -3.879300117492676, -3.924799919128418, -3.9644999504089355, -4.098299980163574, -4.306399822235107, -4.356500148773193, -4.372099876403809, -4.452199935913086, -4.533100128173828, -4.544000148773193, -4.56850004196167, -4.632500171661377, -4.663400173187256, -4.689899921417236, -4.747799873352051, -4.771699905395508, -4.78980016708374, -4.843900203704834, -4.855599880218506, -4.886000156402588, -4.924200057983398, -4.92710018157959, -4.9303998947143555, -4.951600074768066, -4.365900039672852, -3.1791000366210938, -3.4779000282287598, -3.557800054550171, -3.612799882888794, -3.7709999084472656, -3.821000099182129, -4.005000114440918, -4.039400100708008, -4.136600017547607, -4.203499794006348, -4.216599941253662, -4.604400157928467, -4.62060022354126, -4.648600101470947, -4.6545000076293945, -4.6717000007629395, -4.7027997970581055, -4.706699848175049, -4.718900203704834, -4.720099925994873, -4.745200157165527, -4.748899936676025, -4.752099990844727, -4.757599830627441, -4.760799884796143, -4.774600028991699, -4.78410005569458, -4.809199810028076, -4.810500144958496, -4.816800117492676]}, \"token.table\": {\"Topic\": [2, 3, 4, 3, 6, 3, 7, 10, 1, 3, 4, 3, 8, 7, 3, 4, 10, 10, 9, 10, 7, 6, 10, 6, 8, 1, 1, 1, 2, 1, 2, 10, 10, 6, 8, 9, 10, 5, 9, 7, 9, 10, 9, 7, 7, 7, 8, 6, 9, 5, 7, 9, 7, 8, 2, 3, 4, 1, 3, 4, 4, 3, 3, 4, 3, 8, 6, 3, 4, 2, 7, 1, 3, 5, 2, 4, 4, 6, 8, 5, 4, 4, 6, 2, 2, 9, 3, 5, 5, 8, 9, 5, 4, 9, 9, 3, 5, 5, 8, 1, 3, 1, 1, 3, 1, 2, 9, 9, 1, 8, 3, 10, 5, 10, 5, 7, 4, 8, 6, 1, 6, 3, 4, 2, 3, 5, 10, 8, 5, 9, 7, 7, 1, 2, 3, 4, 4, 6, 9, 1, 1, 6, 10, 1, 2, 3, 2, 4, 2, 4, 2, 4, 2, 5, 10, 1, 2, 4, 3, 3, 1, 5, 2, 2, 6, 1, 9, 4, 4, 1, 2, 3, 4, 1, 2, 1, 2, 6, 10, 6, 1, 2, 3, 4, 7, 1, 6, 10, 8, 7, 6, 3, 5, 5, 2, 3, 8, 1, 2, 5, 5, 6, 4, 5, 4, 7, 4, 10, 1, 3, 1, 4, 8, 1, 2, 1, 2, 2, 1, 2, 3, 6, 2, 5, 8, 7, 7, 8, 10, 10, 3, 3, 8, 3, 2, 4, 6, 9, 4, 1, 2, 8, 1, 3, 3, 4, 2, 1, 4, 2, 10, 1, 1, 1, 2, 4, 1, 2, 1, 1, 3, 8, 4, 2, 3, 5, 2, 5, 2, 7, 6, 4, 3, 1, 2, 8, 2, 1, 4, 1, 3, 1, 3, 4, 2, 2, 3, 4, 1, 2, 3, 4, 2, 4, 1, 2, 3, 4, 6, 10, 4, 1, 3, 2, 3, 5, 8, 4, 5, 1, 3, 1, 4, 6, 9, 1, 5, 5, 5, 1, 2, 4, 6, 9, 6, 5, 2, 10, 2, 10, 1, 8, 3, 9, 2, 8, 7, 5, 2, 2, 9, 1, 2, 3, 4, 2, 2, 9, 6, 6, 9, 4, 1, 1, 3, 2, 5, 8, 3, 4, 5, 1, 2, 4, 3, 9, 1, 4, 3, 4, 1, 3, 7, 9, 2, 2, 1, 2, 4, 3, 4, 9, 9, 9, 10, 5, 1, 3, 4, 7, 2, 5, 2, 10, 8, 9, 1, 4, 2, 4, 9, 2, 7, 4, 6, 8, 7, 5, 3, 3, 4, 7, 8, 2, 5, 5, 6, 7, 1, 2, 3, 10, 2, 1, 2, 1, 3, 1, 1, 9, 1, 3, 3, 8, 6, 10, 2, 1, 2, 3, 4, 5, 3, 1, 7, 10, 10, 3, 3, 3, 3, 3, 6, 4, 1, 2, 1, 3, 4, 2, 3, 10, 7, 1, 2, 1, 3, 4, 7, 7, 1, 5, 2, 1, 2, 3, 4, 8, 1, 3, 1], \"Freq\": [0.21446196734905243, 0.08234356343746185, 0.702992856502533, 0.9998311400413513, 0.9942871928215027, 0.9993560314178467, 0.9962361454963684, 0.9885467886924744, 0.23331265151500702, 0.7267792224884033, 0.039524517953395844, 0.9997813701629639, 0.9950860738754272, 0.9966176152229309, 0.17108207941055298, 0.8289933204650879, 0.9906492233276367, 0.9963167309761047, 0.992357611656189, 0.9913170337677002, 0.9951667189598083, 0.9957924485206604, 0.9934662580490112, 0.9986773133277893, 0.997489333152771, 0.9993706941604614, 0.999210774898529, 0.9119982123374939, 0.0878506749868393, 0.9576883912086487, 0.041971538215875626, 0.9942973852157593, 0.9985410571098328, 0.9987817406654358, 0.9951475262641907, 0.9881210923194885, 0.9890929460525513, 0.9991649985313416, 0.990830659866333, 0.9946102499961853, 0.9991992712020874, 0.9877970218658447, 0.9892773032188416, 0.9969956278800964, 0.9959419965744019, 0.9933494329452515, 0.9980370402336121, 0.9938830137252808, 0.9899166822433472, 0.9991024136543274, 0.9968490600585938, 0.9910603761672974, 0.9920998811721802, 0.9901871681213379, 0.9681956768035889, 0.0023788593243807554, 0.02922598458826542, 0.9996436238288879, 0.999671220779419, 0.9994081258773804, 0.9995970129966736, 0.9994159936904907, 0.9897046089172363, 0.010103508830070496, 0.9998117685317993, 0.9917516708374023, 0.9983949661254883, 0.0456855446100235, 0.9540216326713562, 0.9992188215255737, 0.9943333268165588, 0.5342657566070557, 0.4657191336154938, 0.9987078905105591, 0.9998846650123596, 0.9997471570968628, 0.9994341731071472, 0.9954007863998413, 0.9985133409500122, 0.9988768696784973, 0.9988328814506531, 0.9989740252494812, 0.9987550973892212, 0.9990748763084412, 0.9998548626899719, 0.9914827346801758, 0.9996678829193115, 0.9984794855117798, 0.9991578459739685, 0.9991375803947449, 0.9976113438606262, 0.9990411400794983, 0.999035120010376, 0.997069239616394, 0.9885210990905762, 0.9997532963752747, 0.9997910261154175, 0.9990651607513428, 0.9986246824264526, 0.9997214674949646, 0.9992513060569763, 0.9990950226783752, 0.9996756911277771, 0.9999387264251709, 0.9747983813285828, 0.02453351579606533, 0.9984833598136902, 0.9966987371444702, 0.9997118711471558, 0.9980801939964294, 0.9996893405914307, 0.9959684610366821, 0.9995586276054382, 0.9963812232017517, 0.9998882412910461, 0.9929240942001343, 0.9984111189842224, 0.9945867657661438, 0.9978626370429993, 0.9994182586669922, 0.995546281337738, 0.016948476433753967, 0.9830116629600525, 0.03570200875401497, 0.4641261398792267, 0.49982815980911255, 0.9904888272285461, 0.9927282929420471, 0.9997709393501282, 0.995250940322876, 0.9952410459518433, 0.9949403405189514, 0.23652200400829315, 0.1838851124048233, 0.16582342982292175, 0.4136984944343567, 0.9990842342376709, 0.9987536072731018, 0.9972749948501587, 0.9995813965797424, 0.9993939399719238, 0.9974495768547058, 0.9961754083633423, 0.19718974828720093, 0.1181495189666748, 0.6845770478248596, 0.0008626132621429861, 0.9980435371398926, 0.02339790388941765, 0.9760268330574036, 0.9994703531265259, 0.9984922409057617, 0.07092957198619843, 0.9276257753372192, 0.9963966608047485, 0.9817221760749817, 0.01814351975917816, 0.9990844130516052, 0.9995175004005432, 0.9997848868370056, 0.9990196824073792, 0.9988477826118469, 0.9998308420181274, 0.9992244839668274, 0.9977087378501892, 0.9989960789680481, 0.9974607825279236, 0.9985454082489014, 0.998807430267334, 0.40245598554611206, 0.3504495322704315, 0.2101377248764038, 0.03682690113782883, 0.8536897301673889, 0.146057590842247, 0.9988269805908203, 0.9994635581970215, 0.9968505501747131, 0.9983265399932861, 0.9973054528236389, 0.03136729449033737, 0.4716798663139343, 0.4761274456977844, 0.02059941738843918, 0.9931181073188782, 0.9997217655181885, 0.9976192712783813, 0.9901469945907593, 0.9925521016120911, 0.993990957736969, 0.9977995157241821, 0.9992727637290955, 0.9986090064048767, 0.9993875026702881, 0.9043607711791992, 0.09558708220720291, 0.9990423917770386, 0.9993253350257874, 0.12917183339595795, 0.8701014518737793, 0.935279905796051, 0.06326034665107727, 0.9992550611495972, 0.999635636806488, 0.9995905160903931, 0.9974122643470764, 0.9984724521636963, 0.9957839846611023, 0.7135025262832642, 0.2863761782646179, 0.9969243407249451, 0.002895510755479336, 0.9957895278930664, 0.9851356744766235, 0.0148171940818429, 0.9714934825897217, 0.028302796185016632, 0.9998971819877625, 0.0028129136189818382, 0.37130460143089294, 0.6258732676506042, 0.9985020756721497, 0.9997913241386414, 0.9974401593208313, 0.9954915642738342, 0.9939539432525635, 0.9991055727005005, 0.9933162927627563, 0.9887256026268005, 0.993937075138092, 0.9995776414871216, 0.9991998076438904, 0.9982106685638428, 0.9994580745697021, 0.9143790006637573, 0.08476148545742035, 0.9948631525039673, 0.9929073452949524, 0.999173641204834, 0.9900521636009216, 0.00954858772456646, 0.991829514503479, 0.9995137453079224, 0.9993025064468384, 0.6728135943412781, 0.32694584131240845, 0.9999000430107117, 0.9991631507873535, 0.9993337392807007, 0.9996144771575928, 0.9923282265663147, 0.999869704246521, 0.9997742772102356, 0.783684492111206, 0.20864735543727875, 0.007541470695286989, 0.983130156993866, 0.01664307527244091, 0.9996427893638611, 0.5122110843658447, 0.4877094328403473, 0.9918507933616638, 0.9995443820953369, 0.9453429579734802, 0.05426075682044029, 0.9990572929382324, 0.17326320707798004, 0.8265296816825867, 0.999616265296936, 0.9981880187988281, 0.9946482181549072, 0.9988218545913696, 0.9998656511306763, 0.9522756934165955, 0.047404032200574875, 0.9913023710250854, 0.9997476935386658, 0.9994971752166748, 0.998464822769165, 0.588506817817688, 0.4114629924297333, 0.06572804600000381, 0.2871277928352356, 0.6463257670402527, 0.9997428059577942, 0.0014805220998823643, 0.1861756592988968, 0.812066376209259, 0.004198933951556683, 0.9330964684486389, 0.06251746416091919, 0.9985228776931763, 0.9994176030158997, 0.999218225479126, 0.44475042819976807, 0.07157369703054428, 0.02595306746661663, 0.45772695541381836, 0.9969806671142578, 0.9978189468383789, 0.9993118643760681, 0.7996102571487427, 0.2002788484096527, 0.01896001398563385, 0.3944990634918213, 0.5864529013633728, 0.9960436820983887, 0.9994062781333923, 0.9978528618812561, 0.999433696269989, 0.9994343519210815, 0.18650825321674347, 0.813357949256897, 0.9951394200325012, 0.995391309261322, 0.9994250535964966, 0.9988460540771484, 0.9992318749427795, 0.9995931386947632, 0.022919032722711563, 0.974510669708252, 0.002464412013068795, 0.9987415075302124, 0.9985095262527466, 0.9954224228858948, 0.9991553425788879, 0.9992545247077942, 0.9945039749145508, 0.9988918304443359, 0.9918553829193115, 0.9990070462226868, 0.9938601851463318, 0.5138891935348511, 0.48395389318466187, 0.9994869828224182, 0.993790864944458, 0.9971331357955933, 0.9991235136985779, 0.9996864199638367, 0.9991884231567383, 0.9925318360328674, 0.004584398120641708, 0.7932536602020264, 0.03636955842375755, 0.16564957797527313, 0.9993488192558289, 0.9992820024490356, 0.9965936541557312, 0.9995535612106323, 0.9974842071533203, 0.9978538155555725, 0.9987161755561829, 0.9997285008430481, 0.11065816879272461, 0.8892757892608643, 0.4128253161907196, 0.5866464972496033, 0.999648928642273, 0.9782843589782715, 0.021715523675084114, 0.9994509816169739, 0.4338405728340149, 0.5464968681335449, 0.01934502273797989, 0.9996405839920044, 0.9922493100166321, 0.012229938991367817, 0.9875675439834595, 0.9998842477798462, 0.9986082911491394, 0.7343959808349609, 0.26550930738449097, 0.9956573247909546, 0.9942781329154968, 0.9995524883270264, 0.999606728553772, 0.93194580078125, 0.0678391084074974, 0.9989644289016724, 0.24790047109127045, 0.7515235543251038, 0.9976508021354675, 0.9904834032058716, 0.9938396215438843, 0.9911730885505676, 0.998497724533081, 0.11050695925951004, 0.21407106518745422, 0.6746131777763367, 0.9988144040107727, 0.0028661738615483046, 0.9964731335639954, 0.9996094703674316, 0.9953001737594604, 0.9964136481285095, 0.9954643249511719, 0.33684292435646057, 0.6629681587219238, 0.1054350957274437, 0.8943020105361938, 0.9957369565963745, 0.9993869066238403, 0.997523844242096, 0.9990158677101135, 0.998823344707489, 0.9962679147720337, 0.99488365650177, 0.9976248741149902, 0.9997965693473816, 0.3870261013507843, 0.6126267910003662, 0.9945626854896545, 0.9985537528991699, 0.10206791013479233, 0.8973209857940674, 0.999426007270813, 0.9973668456077576, 0.9933730363845825, 0.0018694570753723383, 0.9585641026496887, 0.039258599281311035, 0.9944010376930237, 0.9996454119682312, 0.05938548222184181, 0.9397988319396973, 0.8700076937675476, 0.12990160286426544, 0.9998109936714172, 0.9996410012245178, 0.9967594742774963, 0.17025698721408844, 0.829531729221344, 0.9998161196708679, 0.996756374835968, 0.9968741536140442, 0.9963570237159729, 0.9996726512908936, 0.13593289256095886, 0.11381104588508606, 0.16504058241844177, 0.5850644707679749, 0.9988974332809448, 0.9999282360076904, 0.999231219291687, 0.9961920380592346, 0.9897161722183228, 0.995240330696106, 0.9996416568756104, 0.9995723962783813, 0.999142587184906, 0.9997076392173767, 0.9996954202651978, 0.9993751049041748, 0.9996238350868225, 0.9603158235549927, 0.03938008099794388, 0.04271692782640457, 0.9501730799674988, 0.006686127744615078, 0.7724098563194275, 0.22730222344398499, 0.9959132075309753, 0.9968990087509155, 0.13729116320610046, 0.8626164793968201, 0.4078621566295624, 0.4854016900062561, 0.10664285719394684, 0.9937796592712402, 0.9989449977874756, 0.9994763731956482, 0.9988636374473572, 0.9989665746688843, 0.5003750920295715, 0.24852532148361206, 0.20601308345794678, 0.045030735433101654, 0.9953009486198425, 0.9782953262329102, 0.021750403568148613, 0.9995331764221191], \"Term\": [\"1\", \"1\", \"1\", \"10\", \"14\", \"15\", \"18\", \"1st\", \"2\", \"2\", \"2\", \"20\", \"2nd\", \"35\", \"4\", \"4\", \"930\", \"Absolutely\", \"Applebees\", \"Asian\", \"Avoid\", \"Browns\", \"Burger\", \"Chinese\", \"Chipotle\", \"Food\", \"Ill\", \"Im\", \"Im\", \"Ive\", \"Ive\", \"King\", \"McDonalds\", \"Mexican\", \"New\", \"ONE\", \"Okay\", \"Ordered\", \"Pho\", \"Sad\", \"Service\", \"Stay\", \"Total\", \"Tried\", \"Waited\", \"Way\", \"Wendys\", \"Would\", \"absolute\", \"absolutely\", \"alcohol\", \"allow\", \"allowed\", \"alright\", \"also\", \"also\", \"also\", \"always\", \"another\", \"area\", \"around\", \"arrived\", \"ask\", \"ask\", \"asked\", \"attentive\", \"avoid\", \"away\", \"away\", \"awful\", \"awhile\", \"back\", \"back\", \"bacon\", \"bad\", \"bar\", \"bartender\", \"basic\", \"beans\", \"beef\", \"beer\", \"behind\", \"believe\", \"best\", \"better\", \"beverage\", \"bill\", \"bite\", \"bland\", \"bowl\", \"boyfriend\", \"bread\", \"breakfast\", \"brisket\", \"broth\", \"brought\", \"burger\", \"burgers\", \"burrito\", \"business\", \"busy\", \"call\", \"called\", \"came\", \"cant\", \"cant\", \"card\", \"cards\", \"care\", \"chain\", \"check\", \"cheddar\", \"cheese\", \"chef\", \"chicken\", \"chipotle\", \"chips\", \"chocolate\", \"city\", \"close\", \"closing\", \"coffee\", \"coffee\", \"cold\", \"cold\", \"cold\", \"comped\", \"concept\", \"cooked\", \"cooking\", \"cool\", \"costs\", \"could\", \"could\", \"could\", \"could\", \"counter\", \"crab\", \"credit\", \"customer\", \"customers\", \"decor\", \"deliver\", \"didnt\", \"didnt\", \"didnt\", \"dining\", \"dining\", \"dirty\", \"dirty\", \"disappointed\", \"disgusting\", \"dish\", \"dish\", \"dollars\", \"dont\", \"dont\", \"door\", \"drink\", \"drinks\", \"drive\", \"dry\", \"eat\", \"eating\", \"egg\", \"employees\", \"enjoyed\", \"entire\", \"establishment\", \"even\", \"even\", \"even\", \"even\", \"ever\", \"ever\", \"every\", \"everything\", \"excellent\", \"excuse\", \"expecting\", \"experience\", \"experience\", \"experience\", \"experience\", \"fake\", \"family\", \"fan\", \"fat\", \"feed\", \"female\", \"figured\", \"finally\", \"fish\", \"flavor\", \"food\", \"food\", \"forever\", \"free\", \"fresh\", \"fresh\", \"fried\", \"fried\", \"friends\", \"fries\", \"front\", \"fun\", \"game\", \"games\", \"get\", \"get\", \"give\", \"give\", \"gloves\", \"go\", \"go\", \"going\", \"going\", \"good\", \"got\", \"got\", \"got\", \"greasy\", \"great\", \"green\", \"grilled\", \"guac\", \"hair\", \"health\", \"held\", \"hello\", \"horrible\", \"hostess\", \"hotel\", \"hour\", \"husband\", \"husband\", \"impression\", \"included\", \"kids\", \"know\", \"know\", \"lacked\", \"last\", \"later\", \"left\", \"left\", \"like\", \"line\", \"literally\", \"little\", \"lived\", \"location\", \"lunch\", \"made\", \"made\", \"made\", \"make\", \"make\", \"management\", \"manager\", \"manager\", \"margaritas\", \"maybe\", \"meal\", \"meal\", \"meat\", \"medium\", \"medium\", \"menu\", \"messed\", \"milk\", \"mins\", \"minutes\", \"money\", \"money\", \"moving\", \"much\", \"need\", \"needs\", \"never\", \"never\", \"next\", \"next\", \"next\", \"nice\", \"night\", \"night\", \"night\", \"nothing\", \"nothing\", \"nothing\", \"noticed\", \"ok\", \"old\", \"one\", \"one\", \"one\", \"one\", \"onions\", \"online\", \"open\", \"order\", \"order\", \"ordered\", \"ordered\", \"ordered\", \"originally\", \"outside\", \"overcooked\", \"owner\", \"party\", \"people\", \"people\", \"peppers\", \"pho\", \"phone\", \"piece\", \"pieces\", \"pizza\", \"place\", \"place\", \"place\", \"places\", \"pork\", \"possible\", \"potatoes\", \"pretty\", \"previously\", \"price\", \"private\", \"problem\", \"provided\", \"pulled\", \"pulled\", \"quality\", \"queso\", \"ran\", \"raw\", \"really\", \"recommend\", \"replace\", \"restaurant\", \"restaurant\", \"restaurant\", \"restaurant\", \"restaurants\", \"reviews\", \"ribs\", \"rice\", \"roll\", \"rolls\", \"room\", \"rude\", \"said\", \"said\", \"salad\", \"salad\", \"sandwich\", \"sat\", \"sat\", \"sauce\", \"say\", \"say\", \"say\", \"seated\", \"security\", \"see\", \"see\", \"server\", \"servers\", \"service\", \"service\", \"shame\", \"shell\", \"shrimp\", \"side\", \"since\", \"since\", \"sit\", \"sitting\", \"sitting\", \"smell\", \"smoke\", \"smoked\", \"soda\", \"soggy\", \"someone\", \"someone\", \"someone\", \"son\", \"soup\", \"soup\", \"special\", \"specifically\", \"spoon\", \"spring\", \"staff\", \"staff\", \"star\", \"star\", \"state\", \"steak\", \"stick\", \"stopped\", \"street\", \"sucks\", \"surprise\", \"sweet\", \"table\", \"tables\", \"tables\", \"taco\", \"tacos\", \"taste\", \"taste\", \"tasted\", \"tasty\", \"tender\", \"terrible\", \"terrible\", \"terrible\", \"terribly\", \"thing\", \"think\", \"think\", \"time\", \"time\", \"times\", \"today\", \"tofu\", \"told\", \"told\", \"took\", \"tortilla\", \"tough\", \"train\", \"try\", \"two\", \"two\", \"two\", \"two\", \"undercooked\", \"us\", \"used\", \"using\", \"utensils\", \"vegan\", \"wait\", \"waited\", \"waiter\", \"waiting\", \"waitress\", \"walk\", \"walked\", \"want\", \"want\", \"wanted\", \"wanted\", \"wanted\", \"wasnt\", \"wasnt\", \"website\", \"weird\", \"well\", \"well\", \"went\", \"went\", \"went\", \"wing\", \"wings\", \"work\", \"worse\", \"worth\", \"would\", \"would\", \"would\", \"would\", \"written\", \"wrong\", \"wrong\", \"years\"]}, \"R\": 30, \"lambda.step\": 0.01, \"plot.opts\": {\"xlab\": \"PC1\", \"ylab\": \"PC2\"}, \"topic.order\": [10, 2, 8, 6, 3, 4, 5, 1, 9, 7]};\n",
       "\n",
       "function LDAvis_load_lib(url, callback){\n",
       "  var s = document.createElement('script');\n",
       "  s.src = url;\n",
       "  s.async = true;\n",
       "  s.onreadystatechange = s.onload = callback;\n",
       "  s.onerror = function(){console.warn(\"failed to load library \" + url);};\n",
       "  document.getElementsByTagName(\"head\")[0].appendChild(s);\n",
       "}\n",
       "\n",
       "if(typeof(LDAvis) !== \"undefined\"){\n",
       "   // already loaded: just create the visualization\n",
       "   !function(LDAvis){\n",
       "       new LDAvis(\"#\" + \"ldavis_el178251396968945102087078472682\", ldavis_el178251396968945102087078472682_data);\n",
       "   }(LDAvis);\n",
       "}else if(typeof define === \"function\" && define.amd){\n",
       "   // require.js is available: use it to load d3/LDAvis\n",
       "   require.config({paths: {d3: \"https://cdnjs.cloudflare.com/ajax/libs/d3/3.5.5/d3.min\"}});\n",
       "   require([\"d3\"], function(d3){\n",
       "      window.d3 = d3;\n",
       "      LDAvis_load_lib(\"https://cdn.rawgit.com/bmabey/pyLDAvis/files/ldavis.v1.0.0.js\", function(){\n",
       "        new LDAvis(\"#\" + \"ldavis_el178251396968945102087078472682\", ldavis_el178251396968945102087078472682_data);\n",
       "      });\n",
       "    });\n",
       "}else{\n",
       "    // require.js not available: dynamically load d3 & LDAvis\n",
       "    LDAvis_load_lib(\"https://cdnjs.cloudflare.com/ajax/libs/d3/3.5.5/d3.min.js\", function(){\n",
       "         LDAvis_load_lib(\"https://cdn.rawgit.com/bmabey/pyLDAvis/files/ldavis.v1.0.0.js\", function(){\n",
       "                 new LDAvis(\"#\" + \"ldavis_el178251396968945102087078472682\", ldavis_el178251396968945102087078472682_data);\n",
       "            })\n",
       "         });\n",
       "}\n",
       "</script>"
      ],
      "text/plain": [
       "PreparedData(topic_coordinates=              x         y  topics  cluster       Freq\n",
       "topic                                                \n",
       "9     -0.270895  0.081673       1        1  26.483366\n",
       "1     -0.229321 -0.017541       2        1  24.414896\n",
       "7     -0.267830  0.026596       3        1  19.973207\n",
       "5     -0.176437  0.095346       4        1  15.109533\n",
       "2      0.010968 -0.433595       5        1   7.400229\n",
       "3      0.161579  0.030993       6        1   2.250668\n",
       "4      0.190390  0.053683       7        1   1.243834\n",
       "0      0.190623  0.053716       8        1   1.163390\n",
       "8      0.190141  0.054058       9        1   1.053169\n",
       "6      0.200781  0.055070      10        1   0.907702, topic_info=     Category          Freq          Term         Total  loglift  logprob\n",
       "10    Default  21122.000000          food  21122.000000  30.0000  30.0000\n",
       "121   Default  10807.000000            us  10807.000000  29.0000  29.0000\n",
       "15    Default  12173.000000         place  12173.000000  28.0000  28.0000\n",
       "82    Default   7647.000000       ordered   7647.000000  27.0000  27.0000\n",
       "71    Default   9845.000000          like   9845.000000  26.0000  26.0000\n",
       "...       ...           ...           ...           ...      ...      ...\n",
       "3551  Topic10    111.202995           fat    112.104568   4.6939  -4.7746\n",
       "1452  Topic10    110.154739        comped    111.056274   4.6939  -4.7841\n",
       "1348  Topic10    107.420425          Stay    108.321846   4.6937  -4.8092\n",
       "4138  Topic10    107.278305          Okay    108.179924   4.6936  -4.8105\n",
       "3281  Topic10    106.603775  specifically    107.505257   4.6936  -4.8168\n",
       "\n",
       "[415 rows x 6 columns], token_table=      Topic      Freq     Term\n",
       "term                          \n",
       "146       2  0.214462        1\n",
       "146       3  0.082344        1\n",
       "146       4  0.702993        1\n",
       "766       3  0.999831       10\n",
       "6049      6  0.994287       14\n",
       "...     ...       ...      ...\n",
       "278       4  0.045031    would\n",
       "5007      8  0.995301  written\n",
       "400       1  0.978295    wrong\n",
       "400       3  0.021750    wrong\n",
       "1326      1  0.999533    years\n",
       "\n",
       "[481 rows x 3 columns], R=30, lambda_step=0.01, plot_opts={'xlab': 'PC1', 'ylab': 'PC2'}, topic_order=[10, 2, 8, 6, 3, 4, 5, 1, 9, 7])"
      ]
     },
     "execution_count": 33,
     "metadata": {},
     "output_type": "execute_result"
    }
   ],
   "source": [
    "pyLDAvis.enable_notebook()\n",
    "vis = pyLDAvis.gensim.prepare(low_lda_model, low_corpus, low_dictionary)\n",
    "vis"
   ]
  },
  {
   "cell_type": "code",
   "execution_count": null,
   "metadata": {},
   "outputs": [],
   "source": [
    "pyLDAvis.display(pyLDAvis.gensim.prepare(high_lda_model, high_corpus, high_dictionary))\n"
   ]
  },
  {
   "cell_type": "markdown",
   "metadata": {},
   "source": [
    "\n",
    "With topics generated from LDA algorithm, we summarized 5 topics from the outputs and extracted the meaningful keywords in those topics for both low rating reviews and high rating reviews.\n",
    "\n",
    "Topics and keywords from low rating reviews are:\n",
    "\n",
    "|Topic|\tTopic Name|\tKeywords|\n",
    "|------|----|--------|\n",
    "|1\t|Service\t|order rude time service manager\n",
    "|2  |Overall| food place disappointed terrible\n",
    "|3  |Service| minutes asked tables waitress wait ordered drink\n",
    "|3\t|Environment\t|people around dirty old \n",
    "|2\t|Food\t|chicken pizza sauce cheese burger cooked tasted\n",
    "\n",
    "Topics and keywords from high rating reviews are:\n",
    "\n",
    "|Topic|\tTopic Name\t|Keywords\n",
    "|-----------|----|--------|\n",
    "|1\t|Overall, Service|\tfood great time service delicious amazing friendly\n",
    "|2\t|Food\t|cheese meal experience burger sandwich enjoyed|\n",
    "|3\t|Food\t|best fresh pizza salad favorite ingredients\n",
    "|4\t|Environment\t|day two home pretty local reasonable\n",
    "|5\t|Food|\tChicken sauce sweet dish flavor cooked authentic perfectly\n",
    "\n",
    "As from those topics, we concluded that generally customers comment restaurants from 4 perspectives, which are Service, Overall, Food, and Environment. Customers will complain about Food and Service when not satisfied, and will not give a 5-star rating without impression on Service, Food and Environment."
   ]
  },
  {
   "cell_type": "markdown",
   "metadata": {},
   "source": [
    "#### Word Cloud"
   ]
  },
  {
   "cell_type": "markdown",
   "metadata": {},
   "source": [
    "To further support our conclusion on customers' concerns, we used word cloud to visualize the most common words that customers mention in reviews.\n",
    "\n",
    "Word cloud visualization includes the following steps:\n",
    "\n",
    "- Get word list for word cloud visualization<br>\n",
    "- Get stop words to exclude<br>\n",
    "- Generate a word cloud and show<br>\n",
    "\n",
    "Firstly, we flattened our previous docs to have two word list for low rating reviews and high rating reviews."
   ]
  },
  {
   "cell_type": "code",
   "execution_count": null,
   "metadata": {},
   "outputs": [],
   "source": [
    "def flatten_docs(docs):\n",
    "    return [word for doc in docs for word in doc]\n",
    "\n",
    "low_rating_words = flatten_docs(low_docs)\n",
    "high_rating_words = flatten_docs(high_docs)"
   ]
  },
  {
   "cell_type": "code",
   "execution_count": null,
   "metadata": {},
   "outputs": [],
   "source": [
    "print(low_rating_words[:10])"
   ]
  },
  {
   "cell_type": "markdown",
   "metadata": {},
   "source": [
    "As our purpose was to generate word cloud for low and high rating reviews separately with comparison, and we had already removed stop words from the text, we defined the common words in top 20 frequent words in both reviews as the stop words sent to the word cloud generator."
   ]
  },
  {
   "cell_type": "code",
   "execution_count": null,
   "metadata": {},
   "outputs": [],
   "source": [
    "def get_common_words(words1, words2, num=20):\n",
    "    \"\"\" Get common words for two word list\n",
    "        Args:\n",
    "            words1(list)\n",
    "            words2(list)\n",
    "            num(integer): the number of top frequent words to compare\n",
    "        Returns:\n",
    "            common_words(list): the common words in top frequent words in both input list\n",
    "    \"\"\"\n",
    "    counter1 = Counter(words1)\n",
    "    counter2 = Counter(words2)\n",
    "    freq_words1 = set([word[0] for word in counter1.most_common()[:num]])\n",
    "    freq_words2 = set([word[0] for word in counter2.most_common()[:num]])\n",
    "    common_words = list(freq_words1 & freq_words2)\n",
    "    return common_words\n",
    "\n",
    "common_words = get_common_words(low_rating_words, high_rating_words)\n",
    "print('Common words: ', common_words)"
   ]
  },
  {
   "cell_type": "markdown",
   "metadata": {},
   "source": [
    "With the following two functions, we generated word cloud for both low rating reviews and high rating reviews."
   ]
  },
  {
   "cell_type": "code",
   "execution_count": null,
   "metadata": {},
   "outputs": [],
   "source": [
    "\n",
    "def generate_word_cloud(words_list, stop_words=[], max_words=100):\n",
    "    \"\"\" Generate a word cloud\n",
    "        Args:\n",
    "            words_list(list): list of word as the word cloud data\n",
    "            stop_words(list): list of stop words to exclude\n",
    "            max_words(integer): maximum number of word to show on the word cloud image\n",
    "        Return:\n",
    "            (WordCloud)\n",
    "    \"\"\"\n",
    "    word_cloud = WordCloud(background_color='white',\n",
    "                          stopwords=stop_words,\n",
    "                          max_words=max_words,\n",
    "                         ).generate(' '.join(words_list))\n",
    "    return word_cloud\n",
    "\n",
    "def show_word_cloud(word_cloud):\n",
    "    \"\"\" Show a word cloud\n",
    "        Args: \n",
    "            word_cloud(WordCloud)\n",
    "    \"\"\"\n",
    "    plt.imshow(word_cloud)\n",
    "    plt.axis(\"off\")\n",
    "    plt.show()"
   ]
  },
  {
   "cell_type": "code",
   "execution_count": null,
   "metadata": {
    "scrolled": true
   },
   "outputs": [],
   "source": [
    "low_rating_word_cloud = generate_word_cloud(low_rating_words, stop_words=common_words)\n",
    "print('Word Cloud for low rating reviews:')\n",
    "show_word_cloud(low_rating_word_cloud)"
   ]
  },
  {
   "cell_type": "code",
   "execution_count": null,
   "metadata": {
    "scrolled": false
   },
   "outputs": [],
   "source": [
    "high_rating_word_cloud = generate_word_cloud(high_rating_words, stop_words=common_words)\n",
    "print('Word Cloud for high rating reviews:')\n",
    "show_word_cloud(high_rating_word_cloud)"
   ]
  },
  {
   "cell_type": "markdown",
   "metadata": {},
   "source": [
    "As can be seen from the word clouds, in low rating reviews, customers mention 'order', 'asked', 'table' a lot, which points out their opinions on restaurants' service. While in high rating reviews, positive adjectives like 'delicious', 'great', 'amazing', 'love' occupy a lot of space. From those two word clouds, we could easily notice different emotions and attitudes.\n",
    "\n",
    "Those two word clouds give some further support on our previous summarization from topic modeling. However, since positive adjectives like 'great' and 'amazing' are quite general, we can not conclude from those adjectives that customers mention which part of the restaurant in the review. Thus, we generate another word cloud which contains only nouns in the text."
   ]
  },
  {
   "cell_type": "markdown",
   "metadata": {},
   "source": [
    "We used the word tagging function in nltk library to extract only nouns from the word list."
   ]
  },
  {
   "cell_type": "code",
   "execution_count": null,
   "metadata": {},
   "outputs": [],
   "source": [
    "def get_nouns_from_words(all_words):\n",
    "    all_words_with_tag = nltk.pos_tag(all_words)\n",
    "    return [word[0] for word in all_words_with_tag if word[1] == 'NN']"
   ]
  },
  {
   "cell_type": "code",
   "execution_count": null,
   "metadata": {},
   "outputs": [],
   "source": [
    "low_rating_nouns = get_nouns_from_words(low_rating_words)\n",
    "high_rating_nouns = get_nouns_from_words(high_rating_words)"
   ]
  },
  {
   "cell_type": "code",
   "execution_count": null,
   "metadata": {},
   "outputs": [],
   "source": [
    "low_rating_nouns_word_cloud = generate_word_cloud(low_rating_nouns)\n",
    "print('Word Cloud for low rating reviews (with only nouns):')\n",
    "show_word_cloud(low_rating_nouns_word_cloud)"
   ]
  },
  {
   "cell_type": "code",
   "execution_count": null,
   "metadata": {},
   "outputs": [],
   "source": [
    "high_rating_nouns_word_cloud = generate_word_cloud(high_rating_nouns)\n",
    "print('Word Cloud for high rating reviews (with only nouns):')\n",
    "show_word_cloud(high_rating_nouns_word_cloud)"
   ]
  },
  {
   "cell_type": "markdown",
   "metadata": {},
   "source": [
    "As can be seen from the noun cloud for low rating reviews, customers complain about 'food', 'order', 'place', 'time' and 'service'. In high rating reviews, customers mainly mention 'place', 'food', 'time' and 'order'.\n",
    "\n",
    "Recalling our previous conclusion on customers' concern, customers care about Service, Food, and Environment. We treated 'place' in the word cloud as a representative of Environment, and the results from word cloud match well with the conclusion from topic modeling. For a 5-star rating, Food and Environment are a must. To avoid a 1-star rating, restaurants should take care of their basic services."
   ]
  },
  {
   "cell_type": "markdown",
   "metadata": {},
   "source": [
    "#### Summarization"
   ]
  },
  {
   "cell_type": "markdown",
   "metadata": {},
   "source": [
    "In data analysis phase, we first had a general idea of whole dataset, and did some research into reviews that we interested in. To summarize, we found out from the dataset that:\n",
    "\n",
    "- Customers tend to give a high rating. Positive ratings occupy nearly 66% of all reviews.\n",
    "- Customers write more words when giving low rating reviews.\n",
    "- Low rating reviews cover more topics on restaurants including Service, Food, and Environment. High rating reviews mainly cover topics like Food and Environment.\n",
    "- As suggestions to local restaurants, to avoid a low rating, restaurants should make sure they meet the baselines of customers on service and food. To pursue a high rating, restaurants should make some effort on food and environment."
   ]
  },
  {
   "cell_type": "markdown",
   "metadata": {},
   "source": [
    "### Clean text"
   ]
  },
  {
   "cell_type": "code",
   "execution_count": 44,
   "metadata": {},
   "outputs": [],
   "source": [
    "def pipeline(text):\n",
    "    stops = stopwords.words('english')\n",
    "    stemmer = PorterStemmer()\n",
    "    \n",
    "    tokens = word_tokenize(text)\n",
    "    tokens = [word.lower() for word in tokens]\n",
    "    tokens = [word for word in tokens if word.isalpha()]\n",
    "    tokens = [word for word in tokens if not word in stops]\n",
    "    tokens = [stemmer.stem(word) for word in tokens]\n",
    "    return tokens"
   ]
  },
  {
   "cell_type": "markdown",
   "metadata": {},
   "source": [
    "### Create and train model"
   ]
  },
  {
   "cell_type": "code",
   "execution_count": 45,
   "metadata": {
    "scrolled": true
   },
   "outputs": [],
   "source": [
    "count_vectorizer = CountVectorizer(min_df=0.2, max_df=0.9, ngram_range=(1, 2), tokenizer=pipeline)\n",
    "tfidf_vectorizer = TfidfVectorizer(min_df=0.2, max_df=0.9, ngram_range=(1, 2), tokenizer=pipeline)\n",
    "\n",
    "count_X = count_vectorizer.fit_transform(df_buckets.text)\n",
    "tfidf_X = tfidf_vectorizer.fit_transform(df_buckets.text)\n",
    "y = df_buckets.stars"
   ]
  },
  {
   "cell_type": "markdown",
   "metadata": {},
   "source": [
    "Using test/split"
   ]
  },
  {
   "cell_type": "code",
   "execution_count": 46,
   "metadata": {},
   "outputs": [],
   "source": [
    "count_X_train, count_X_test, count_y_train, count_y_test = train_test_split(count_X, y, test_size=0.2, random_state=0)\n",
    "tfidf_X_train, tfidf_X_test, tfidf_y_train, tfidf_y_test = train_test_split(tfidf_X, y, test_size=0.2, random_state=0)"
   ]
  },
  {
   "cell_type": "code",
   "execution_count": 47,
   "metadata": {},
   "outputs": [
    {
     "name": "stdout",
     "output_type": "stream",
     "text": [
      "0.48363184479778865\n",
      "0.5339222620090347\n"
     ]
    }
   ],
   "source": [
    "knn = KNeighborsRegressor(n_neighbors=12)\n",
    "knn.fit(count_X_train, count_y_train)\n",
    "knn.fit(tfidf_X_train, tfidf_y_train)\n",
    "\n",
    "print(knn.score(count_X_test, count_y_test))\n",
    "print(knn.score(tfidf_X_train, tfidf_y_train))"
   ]
  },
  {
   "cell_type": "code",
   "execution_count": 48,
   "metadata": {},
   "outputs": [
    {
     "name": "stdout",
     "output_type": "stream",
     "text": [
      "-53481.95038466036\n",
      "0.8623992119862118\n"
     ]
    }
   ],
   "source": [
    "lr = LinearRegression()\n",
    "lr.fit(count_X_train, count_y_train)\n",
    "lr.fit(tfidf_X_train, tfidf_y_train)\n",
    "\n",
    "print(lr.score(count_X_test, count_y_test))\n",
    "print(lr.score(tfidf_X_train, tfidf_y_train))"
   ]
  },
  {
   "cell_type": "markdown",
   "metadata": {},
   "source": [
    "Using 10 cross validation"
   ]
  },
  {
   "cell_type": "code",
   "execution_count": 49,
   "metadata": {},
   "outputs": [],
   "source": [
    "count_knn_scores = cross_val_score(knn, count_X, y, cv=10)\n",
    "tfidf_knn_scores = cross_val_score(knn, tfidf_X, y, cv=10)\n",
    "count_lr_scores = cross_val_score(lr, count_X, y, cv=10)\n",
    "tfidf_lr_scores = cross_val_score(lr, tfidf_X, y, cv=10)"
   ]
  },
  {
   "cell_type": "code",
   "execution_count": 50,
   "metadata": {},
   "outputs": [
    {
     "name": "stdout",
     "output_type": "stream",
     "text": [
      "0.5103830287681859, 0.027920896804183106\n",
      "0.44512282293207484, 0.04663866059157145\n",
      "-0.10805061329601932, 0.1469817653611127\n",
      "0.6746622403687108, 0.024021482859729718\n"
     ]
    }
   ],
   "source": [
    "print(\"{0}, {1}\".format(count_knn_scores.mean(), count_knn_scores.std()))\n",
    "print(\"{0}, {1}\".format(tfidf_knn_scores.mean(), tfidf_knn_scores.std()))\n",
    "print(\"{0}, {1}\".format(count_lr_scores.mean(), count_lr_scores.std()))\n",
    "print(\"{0}, {1}\".format(tfidf_lr_scores.mean(), tfidf_lr_scores.std()))"
   ]
  },
  {
   "cell_type": "markdown",
   "metadata": {},
   "source": [
    "The highest performing model is linear regression using tfidf vectorization and porter stemming"
   ]
  },
  {
   "cell_type": "code",
   "execution_count": null,
   "metadata": {},
   "outputs": [],
   "source": []
  }
 ],
 "metadata": {
  "kernelspec": {
   "display_name": "Python 3",
   "language": "python",
   "name": "python3"
  },
  "language_info": {
   "codemirror_mode": {
    "name": "ipython",
    "version": 3
   },
   "file_extension": ".py",
   "mimetype": "text/x-python",
   "name": "python",
   "nbconvert_exporter": "python",
   "pygments_lexer": "ipython3",
   "version": "3.6.9"
  }
 },
 "nbformat": 4,
 "nbformat_minor": 2
}
